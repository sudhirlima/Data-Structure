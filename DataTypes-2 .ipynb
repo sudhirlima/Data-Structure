{
 "cells": [
  {
   "cell_type": "markdown",
   "id": "5361e023",
   "metadata": {},
   "source": [
    "# sets"
   ]
  },
  {
   "cell_type": "code",
   "execution_count": 1,
   "id": "e27b65f0",
   "metadata": {},
   "outputs": [],
   "source": [
    "#1. sets are unordered - no indexin\n",
    "#2. sets do not contain duplicates\n",
    "#3. sets are mutable"
   ]
  },
  {
   "cell_type": "code",
   "execution_count": 2,
   "id": "6cb0291b",
   "metadata": {},
   "outputs": [],
   "source": [
    "#set() or, {}"
   ]
  },
  {
   "cell_type": "code",
   "execution_count": 3,
   "id": "bfc8bb55",
   "metadata": {},
   "outputs": [],
   "source": [
    "s1 = set()"
   ]
  },
  {
   "cell_type": "code",
   "execution_count": 4,
   "id": "bdebbd57",
   "metadata": {},
   "outputs": [
    {
     "data": {
      "text/plain": [
       "set"
      ]
     },
     "execution_count": 4,
     "metadata": {},
     "output_type": "execute_result"
    }
   ],
   "source": [
    "type(s1)"
   ]
  },
  {
   "cell_type": "code",
   "execution_count": 5,
   "id": "f8fee8e6",
   "metadata": {},
   "outputs": [],
   "source": [
    "s1 = {}"
   ]
  },
  {
   "cell_type": "code",
   "execution_count": 6,
   "id": "f4f5ca6f",
   "metadata": {},
   "outputs": [
    {
     "data": {
      "text/plain": [
       "dict"
      ]
     },
     "execution_count": 6,
     "metadata": {},
     "output_type": "execute_result"
    }
   ],
   "source": [
    "type(s1)"
   ]
  },
  {
   "cell_type": "code",
   "execution_count": 7,
   "id": "fa33847c",
   "metadata": {},
   "outputs": [],
   "source": [
    "s1 = {1,2,3,4}"
   ]
  },
  {
   "cell_type": "code",
   "execution_count": 14,
   "id": "01916778",
   "metadata": {},
   "outputs": [],
   "source": [
    "d1 = {1:2,3:4}"
   ]
  },
  {
   "cell_type": "code",
   "execution_count": 15,
   "id": "c8b69daa",
   "metadata": {},
   "outputs": [
    {
     "data": {
      "text/plain": [
       "dict"
      ]
     },
     "execution_count": 15,
     "metadata": {},
     "output_type": "execute_result"
    }
   ],
   "source": [
    "type(d1)"
   ]
  },
  {
   "cell_type": "code",
   "execution_count": 8,
   "id": "0b03f8e0",
   "metadata": {},
   "outputs": [
    {
     "data": {
      "text/plain": [
       "set"
      ]
     },
     "execution_count": 8,
     "metadata": {},
     "output_type": "execute_result"
    }
   ],
   "source": [
    "type(s1)"
   ]
  },
  {
   "cell_type": "code",
   "execution_count": 10,
   "id": "969771de",
   "metadata": {},
   "outputs": [],
   "source": [
    "s2 = set([1,2,3,4])"
   ]
  },
  {
   "cell_type": "code",
   "execution_count": 11,
   "id": "de95d1b4",
   "metadata": {},
   "outputs": [
    {
     "data": {
      "text/plain": [
       "set"
      ]
     },
     "execution_count": 11,
     "metadata": {},
     "output_type": "execute_result"
    }
   ],
   "source": [
    "type(s2)"
   ]
  },
  {
   "cell_type": "code",
   "execution_count": 12,
   "id": "7d5a8a78",
   "metadata": {},
   "outputs": [],
   "source": [
    "s2 = set((1,2,3,4))"
   ]
  },
  {
   "cell_type": "code",
   "execution_count": 13,
   "id": "134f6cd2",
   "metadata": {},
   "outputs": [
    {
     "data": {
      "text/plain": [
       "set"
      ]
     },
     "execution_count": 13,
     "metadata": {},
     "output_type": "execute_result"
    }
   ],
   "source": [
    "type(s2)"
   ]
  },
  {
   "cell_type": "code",
   "execution_count": 16,
   "id": "68e2cc62",
   "metadata": {},
   "outputs": [
    {
     "data": {
      "text/plain": [
       "{1, 2, 3, 4}"
      ]
     },
     "execution_count": 16,
     "metadata": {},
     "output_type": "execute_result"
    }
   ],
   "source": [
    "s2"
   ]
  },
  {
   "cell_type": "code",
   "execution_count": 18,
   "id": "8333ceb4",
   "metadata": {},
   "outputs": [
    {
     "name": "stdout",
     "output_type": "stream",
     "text": [
      "{1, 2, 3, 4}\n"
     ]
    }
   ],
   "source": [
    "print(s2)"
   ]
  },
  {
   "cell_type": "code",
   "execution_count": 19,
   "id": "431b2332",
   "metadata": {},
   "outputs": [],
   "source": [
    "s3 = {1,1,2,3,4}"
   ]
  },
  {
   "cell_type": "code",
   "execution_count": 20,
   "id": "03ae9e2a",
   "metadata": {},
   "outputs": [
    {
     "data": {
      "text/plain": [
       "{1, 2, 3, 4}"
      ]
     },
     "execution_count": 20,
     "metadata": {},
     "output_type": "execute_result"
    }
   ],
   "source": [
    "s3"
   ]
  },
  {
   "cell_type": "code",
   "execution_count": 21,
   "id": "fcc9fddc",
   "metadata": {},
   "outputs": [
    {
     "data": {
      "text/plain": [
       "{1, 2, 3, 4}"
      ]
     },
     "execution_count": 21,
     "metadata": {},
     "output_type": "execute_result"
    }
   ],
   "source": [
    "s3"
   ]
  },
  {
   "cell_type": "code",
   "execution_count": 22,
   "id": "a5ef6e4e",
   "metadata": {},
   "outputs": [],
   "source": [
    "s3.add(5)"
   ]
  },
  {
   "cell_type": "code",
   "execution_count": 23,
   "id": "03ec9dd4",
   "metadata": {},
   "outputs": [
    {
     "data": {
      "text/plain": [
       "{1, 2, 3, 4, 5}"
      ]
     },
     "execution_count": 23,
     "metadata": {},
     "output_type": "execute_result"
    }
   ],
   "source": [
    "s3"
   ]
  },
  {
   "cell_type": "code",
   "execution_count": 24,
   "id": "ab5b2d47",
   "metadata": {},
   "outputs": [
    {
     "ename": "TypeError",
     "evalue": "unhashable type: 'list'",
     "output_type": "error",
     "traceback": [
      "\u001b[1;31m---------------------------------------------------------------------------\u001b[0m",
      "\u001b[1;31mTypeError\u001b[0m                                 Traceback (most recent call last)",
      "Cell \u001b[1;32mIn[24], line 1\u001b[0m\n\u001b[1;32m----> 1\u001b[0m \u001b[43ms3\u001b[49m\u001b[38;5;241;43m.\u001b[39;49m\u001b[43madd\u001b[49m\u001b[43m(\u001b[49m\u001b[43m[\u001b[49m\u001b[38;5;124;43m\"\u001b[39;49m\u001b[38;5;124;43mA\u001b[39;49m\u001b[38;5;124;43m\"\u001b[39;49m\u001b[43m,\u001b[49m\u001b[38;5;124;43m\"\u001b[39;49m\u001b[38;5;124;43mb\u001b[39;49m\u001b[38;5;124;43m\"\u001b[39;49m\u001b[43m]\u001b[49m\u001b[43m)\u001b[49m\n",
      "\u001b[1;31mTypeError\u001b[0m: unhashable type: 'list'"
     ]
    }
   ],
   "source": [
    "s3.add([\"A\",\"b\"])"
   ]
  },
  {
   "cell_type": "code",
   "execution_count": 25,
   "id": "c3c2f803",
   "metadata": {},
   "outputs": [],
   "source": [
    "s3.add((\"a\",\"b\"))"
   ]
  },
  {
   "cell_type": "code",
   "execution_count": 26,
   "id": "5eef4698",
   "metadata": {},
   "outputs": [
    {
     "data": {
      "text/plain": [
       "{('a', 'b'), 1, 2, 3, 4, 5}"
      ]
     },
     "execution_count": 26,
     "metadata": {},
     "output_type": "execute_result"
    }
   ],
   "source": [
    "s3"
   ]
  },
  {
   "cell_type": "code",
   "execution_count": 27,
   "id": "b2e9f551",
   "metadata": {},
   "outputs": [
    {
     "ename": "TypeError",
     "evalue": "unhashable type: 'set'",
     "output_type": "error",
     "traceback": [
      "\u001b[1;31m---------------------------------------------------------------------------\u001b[0m",
      "\u001b[1;31mTypeError\u001b[0m                                 Traceback (most recent call last)",
      "Cell \u001b[1;32mIn[27], line 1\u001b[0m\n\u001b[1;32m----> 1\u001b[0m \u001b[43ms3\u001b[49m\u001b[38;5;241;43m.\u001b[39;49m\u001b[43madd\u001b[49m\u001b[43m(\u001b[49m\u001b[43m{\u001b[49m\u001b[38;5;241;43m6\u001b[39;49m\u001b[43m,\u001b[49m\u001b[38;5;241;43m7\u001b[39;49m\u001b[43m}\u001b[49m\u001b[43m)\u001b[49m\n",
      "\u001b[1;31mTypeError\u001b[0m: unhashable type: 'set'"
     ]
    }
   ],
   "source": [
    "s3.add({6,7})"
   ]
  },
  {
   "cell_type": "code",
   "execution_count": 28,
   "id": "eb050ce2",
   "metadata": {},
   "outputs": [],
   "source": [
    "s3.update([7,8])"
   ]
  },
  {
   "cell_type": "code",
   "execution_count": 29,
   "id": "b306818f",
   "metadata": {},
   "outputs": [
    {
     "data": {
      "text/plain": [
       "{('a', 'b'), 1, 2, 3, 4, 5, 7, 8}"
      ]
     },
     "execution_count": 29,
     "metadata": {},
     "output_type": "execute_result"
    }
   ],
   "source": [
    "s3"
   ]
  },
  {
   "cell_type": "code",
   "execution_count": 30,
   "id": "5981952a",
   "metadata": {},
   "outputs": [],
   "source": [
    "s3.update({9,10})"
   ]
  },
  {
   "cell_type": "code",
   "execution_count": 31,
   "id": "4305557f",
   "metadata": {},
   "outputs": [
    {
     "data": {
      "text/plain": [
       "{('a', 'b'), 1, 10, 2, 3, 4, 5, 7, 8, 9}"
      ]
     },
     "execution_count": 31,
     "metadata": {},
     "output_type": "execute_result"
    }
   ],
   "source": [
    "s3"
   ]
  },
  {
   "cell_type": "code",
   "execution_count": 32,
   "id": "98b04de9",
   "metadata": {},
   "outputs": [],
   "source": [
    "s3.update((\"c\",\"d\"))"
   ]
  },
  {
   "cell_type": "code",
   "execution_count": 33,
   "id": "0e81fe56",
   "metadata": {},
   "outputs": [
    {
     "data": {
      "text/plain": [
       "{('a', 'b'), 1, 10, 2, 3, 4, 5, 7, 8, 9, 'c', 'd'}"
      ]
     },
     "execution_count": 33,
     "metadata": {},
     "output_type": "execute_result"
    }
   ],
   "source": [
    "s3"
   ]
  },
  {
   "cell_type": "code",
   "execution_count": 34,
   "id": "a77f19b2",
   "metadata": {},
   "outputs": [],
   "source": [
    "s3.remove('c')"
   ]
  },
  {
   "cell_type": "code",
   "execution_count": 35,
   "id": "05bb42e5",
   "metadata": {},
   "outputs": [
    {
     "data": {
      "text/plain": [
       "{('a', 'b'), 1, 10, 2, 3, 4, 5, 7, 8, 9, 'd'}"
      ]
     },
     "execution_count": 35,
     "metadata": {},
     "output_type": "execute_result"
    }
   ],
   "source": [
    "s3"
   ]
  },
  {
   "cell_type": "code",
   "execution_count": 36,
   "id": "dd0026ab",
   "metadata": {},
   "outputs": [],
   "source": [
    "s3.discard(9)"
   ]
  },
  {
   "cell_type": "code",
   "execution_count": 37,
   "id": "0e842e05",
   "metadata": {},
   "outputs": [
    {
     "data": {
      "text/plain": [
       "{('a', 'b'), 1, 10, 2, 3, 4, 5, 7, 8, 'd'}"
      ]
     },
     "execution_count": 37,
     "metadata": {},
     "output_type": "execute_result"
    }
   ],
   "source": [
    "s3"
   ]
  },
  {
   "cell_type": "code",
   "execution_count": 38,
   "id": "22a6d6b7",
   "metadata": {},
   "outputs": [
    {
     "ename": "KeyError",
     "evalue": "'z'",
     "output_type": "error",
     "traceback": [
      "\u001b[1;31m---------------------------------------------------------------------------\u001b[0m",
      "\u001b[1;31mKeyError\u001b[0m                                  Traceback (most recent call last)",
      "Cell \u001b[1;32mIn[38], line 1\u001b[0m\n\u001b[1;32m----> 1\u001b[0m \u001b[43ms3\u001b[49m\u001b[38;5;241;43m.\u001b[39;49m\u001b[43mremove\u001b[49m\u001b[43m(\u001b[49m\u001b[38;5;124;43m'\u001b[39;49m\u001b[38;5;124;43mz\u001b[39;49m\u001b[38;5;124;43m'\u001b[39;49m\u001b[43m)\u001b[49m\n",
      "\u001b[1;31mKeyError\u001b[0m: 'z'"
     ]
    }
   ],
   "source": [
    "s3.remove('z')"
   ]
  },
  {
   "cell_type": "code",
   "execution_count": 39,
   "id": "8e7b2fd2",
   "metadata": {},
   "outputs": [],
   "source": [
    "s3.discard('z')"
   ]
  },
  {
   "cell_type": "code",
   "execution_count": 40,
   "id": "21694b34",
   "metadata": {},
   "outputs": [
    {
     "data": {
      "text/plain": [
       "{('a', 'b'), 1, 10, 2, 3, 4, 5, 7, 8, 'd'}"
      ]
     },
     "execution_count": 40,
     "metadata": {},
     "output_type": "execute_result"
    }
   ],
   "source": [
    "s3"
   ]
  },
  {
   "cell_type": "code",
   "execution_count": 47,
   "id": "b9a20701",
   "metadata": {},
   "outputs": [
    {
     "data": {
      "text/plain": [
       "8"
      ]
     },
     "execution_count": 47,
     "metadata": {},
     "output_type": "execute_result"
    }
   ],
   "source": [
    "s3.pop() #removes random elements"
   ]
  },
  {
   "cell_type": "code",
   "execution_count": 48,
   "id": "e6a13d1a",
   "metadata": {},
   "outputs": [
    {
     "data": {
      "text/plain": [
       "{('a', 'b'), 10, 'd'}"
      ]
     },
     "execution_count": 48,
     "metadata": {},
     "output_type": "execute_result"
    }
   ],
   "source": [
    "s3"
   ]
  },
  {
   "cell_type": "code",
   "execution_count": 49,
   "id": "3473c15f",
   "metadata": {},
   "outputs": [
    {
     "data": {
      "text/plain": [
       "{('a', 'b'), 10, 'd'}"
      ]
     },
     "execution_count": 49,
     "metadata": {},
     "output_type": "execute_result"
    }
   ],
   "source": [
    "s3"
   ]
  },
  {
   "cell_type": "code",
   "execution_count": 50,
   "id": "e697ea59",
   "metadata": {},
   "outputs": [],
   "source": [
    "s3.clear()"
   ]
  },
  {
   "cell_type": "code",
   "execution_count": 51,
   "id": "db73d903",
   "metadata": {},
   "outputs": [
    {
     "data": {
      "text/plain": [
       "set()"
      ]
     },
     "execution_count": 51,
     "metadata": {},
     "output_type": "execute_result"
    }
   ],
   "source": [
    "s3"
   ]
  },
  {
   "cell_type": "code",
   "execution_count": 52,
   "id": "82d3b1f1",
   "metadata": {},
   "outputs": [],
   "source": [
    "del s3"
   ]
  },
  {
   "cell_type": "code",
   "execution_count": 53,
   "id": "ace30e3c",
   "metadata": {},
   "outputs": [
    {
     "ename": "NameError",
     "evalue": "name 's3' is not defined",
     "output_type": "error",
     "traceback": [
      "\u001b[1;31m---------------------------------------------------------------------------\u001b[0m",
      "\u001b[1;31mNameError\u001b[0m                                 Traceback (most recent call last)",
      "Cell \u001b[1;32mIn[53], line 1\u001b[0m\n\u001b[1;32m----> 1\u001b[0m \u001b[43ms3\u001b[49m\n",
      "\u001b[1;31mNameError\u001b[0m: name 's3' is not defined"
     ]
    }
   ],
   "source": [
    "s3"
   ]
  },
  {
   "cell_type": "code",
   "execution_count": 54,
   "id": "5de19c37",
   "metadata": {},
   "outputs": [],
   "source": [
    "a = {1,2,3,4}\n",
    "b = {3,4,5,6}"
   ]
  },
  {
   "cell_type": "code",
   "execution_count": 55,
   "id": "59a663de",
   "metadata": {},
   "outputs": [],
   "source": [
    "#union - all the elements from all the sets"
   ]
  },
  {
   "cell_type": "code",
   "execution_count": 56,
   "id": "d4b08761",
   "metadata": {},
   "outputs": [
    {
     "data": {
      "text/plain": [
       "{1, 2, 3, 4, 5, 6}"
      ]
     },
     "execution_count": 56,
     "metadata": {},
     "output_type": "execute_result"
    }
   ],
   "source": [
    "a.union(b)"
   ]
  },
  {
   "cell_type": "code",
   "execution_count": 57,
   "id": "f2368a38",
   "metadata": {},
   "outputs": [
    {
     "data": {
      "text/plain": [
       "{1, 2, 3, 4, 5, 6}"
      ]
     },
     "execution_count": 57,
     "metadata": {},
     "output_type": "execute_result"
    }
   ],
   "source": [
    "b.union(a)"
   ]
  },
  {
   "cell_type": "code",
   "execution_count": 58,
   "id": "a0fd9d0f",
   "metadata": {},
   "outputs": [],
   "source": [
    "#intersection - only the common elements between the two sets."
   ]
  },
  {
   "cell_type": "code",
   "execution_count": 59,
   "id": "be1e247d",
   "metadata": {},
   "outputs": [
    {
     "data": {
      "text/plain": [
       "{3, 4}"
      ]
     },
     "execution_count": 59,
     "metadata": {},
     "output_type": "execute_result"
    }
   ],
   "source": [
    "a.intersection(b)"
   ]
  },
  {
   "cell_type": "code",
   "execution_count": 60,
   "id": "9692647e",
   "metadata": {},
   "outputs": [
    {
     "data": {
      "text/plain": [
       "{3, 4}"
      ]
     },
     "execution_count": 60,
     "metadata": {},
     "output_type": "execute_result"
    }
   ],
   "source": [
    "b.intersection(a)"
   ]
  },
  {
   "cell_type": "code",
   "execution_count": 61,
   "id": "e21a8e41",
   "metadata": {},
   "outputs": [
    {
     "data": {
      "text/plain": [
       "{1, 2}"
      ]
     },
     "execution_count": 61,
     "metadata": {},
     "output_type": "execute_result"
    }
   ],
   "source": [
    "a.difference(b) #elements of set a which are not present in set b"
   ]
  },
  {
   "cell_type": "code",
   "execution_count": 62,
   "id": "3a54818e",
   "metadata": {},
   "outputs": [
    {
     "data": {
      "text/plain": [
       "{5, 6}"
      ]
     },
     "execution_count": 62,
     "metadata": {},
     "output_type": "execute_result"
    }
   ],
   "source": [
    "b.difference(a) #elements of set b which are not present in set a"
   ]
  },
  {
   "cell_type": "code",
   "execution_count": 63,
   "id": "cb6c0d5e",
   "metadata": {},
   "outputs": [
    {
     "data": {
      "text/plain": [
       "{1, 2, 5, 6}"
      ]
     },
     "execution_count": 63,
     "metadata": {},
     "output_type": "execute_result"
    }
   ],
   "source": [
    "a.symmetric_difference(b) #all the elements except the common elements"
   ]
  },
  {
   "cell_type": "code",
   "execution_count": 64,
   "id": "3e47707a",
   "metadata": {},
   "outputs": [
    {
     "data": {
      "text/plain": [
       "{1, 2, 5, 6}"
      ]
     },
     "execution_count": 64,
     "metadata": {},
     "output_type": "execute_result"
    }
   ],
   "source": [
    "b.symmetric_difference(a)"
   ]
  },
  {
   "cell_type": "code",
   "execution_count": 65,
   "id": "7e1f86ca",
   "metadata": {},
   "outputs": [
    {
     "data": {
      "text/plain": [
       "{1, 2, 3, 4}"
      ]
     },
     "execution_count": 65,
     "metadata": {},
     "output_type": "execute_result"
    }
   ],
   "source": [
    "a"
   ]
  },
  {
   "cell_type": "code",
   "execution_count": 66,
   "id": "a70d7b62",
   "metadata": {},
   "outputs": [
    {
     "data": {
      "text/plain": [
       "4"
      ]
     },
     "execution_count": 66,
     "metadata": {},
     "output_type": "execute_result"
    }
   ],
   "source": [
    "len(a)"
   ]
  },
  {
   "cell_type": "code",
   "execution_count": 67,
   "id": "15ec41c6",
   "metadata": {},
   "outputs": [
    {
     "data": {
      "text/plain": [
       "1"
      ]
     },
     "execution_count": 67,
     "metadata": {},
     "output_type": "execute_result"
    }
   ],
   "source": [
    "min(a)"
   ]
  },
  {
   "cell_type": "code",
   "execution_count": 68,
   "id": "7da763a9",
   "metadata": {},
   "outputs": [
    {
     "data": {
      "text/plain": [
       "4"
      ]
     },
     "execution_count": 68,
     "metadata": {},
     "output_type": "execute_result"
    }
   ],
   "source": [
    "max(a)"
   ]
  },
  {
   "cell_type": "code",
   "execution_count": 69,
   "id": "ed856c39",
   "metadata": {},
   "outputs": [
    {
     "data": {
      "text/plain": [
       "10"
      ]
     },
     "execution_count": 69,
     "metadata": {},
     "output_type": "execute_result"
    }
   ],
   "source": [
    "sum(a)"
   ]
  },
  {
   "cell_type": "code",
   "execution_count": 70,
   "id": "3fcc967c",
   "metadata": {},
   "outputs": [],
   "source": [
    "s4 = {4,1,10,2}"
   ]
  },
  {
   "cell_type": "code",
   "execution_count": 72,
   "id": "c82b4a8a",
   "metadata": {},
   "outputs": [
    {
     "data": {
      "text/plain": [
       "[1, 2, 4, 10]"
      ]
     },
     "execution_count": 72,
     "metadata": {},
     "output_type": "execute_result"
    }
   ],
   "source": [
    "sorted(s4) #return you a sorted list in asc order"
   ]
  },
  {
   "cell_type": "code",
   "execution_count": 73,
   "id": "9d268a09",
   "metadata": {},
   "outputs": [],
   "source": [
    "#frozen set - immutable"
   ]
  },
  {
   "cell_type": "code",
   "execution_count": 74,
   "id": "7abc176f",
   "metadata": {},
   "outputs": [
    {
     "data": {
      "text/plain": [
       "{1, 2, 4, 10}"
      ]
     },
     "execution_count": 74,
     "metadata": {},
     "output_type": "execute_result"
    }
   ],
   "source": [
    "s4"
   ]
  },
  {
   "cell_type": "code",
   "execution_count": 75,
   "id": "d6a4155b",
   "metadata": {},
   "outputs": [],
   "source": [
    "s5 = frozenset(s4)"
   ]
  },
  {
   "cell_type": "code",
   "execution_count": 76,
   "id": "d59c0606",
   "metadata": {},
   "outputs": [
    {
     "data": {
      "text/plain": [
       "frozenset({1, 2, 4, 10})"
      ]
     },
     "execution_count": 76,
     "metadata": {},
     "output_type": "execute_result"
    }
   ],
   "source": [
    "s5"
   ]
  },
  {
   "cell_type": "code",
   "execution_count": 77,
   "id": "104a9b24",
   "metadata": {},
   "outputs": [
    {
     "ename": "AttributeError",
     "evalue": "'frozenset' object has no attribute 'add'",
     "output_type": "error",
     "traceback": [
      "\u001b[1;31m---------------------------------------------------------------------------\u001b[0m",
      "\u001b[1;31mAttributeError\u001b[0m                            Traceback (most recent call last)",
      "Cell \u001b[1;32mIn[77], line 1\u001b[0m\n\u001b[1;32m----> 1\u001b[0m \u001b[43ms5\u001b[49m\u001b[38;5;241;43m.\u001b[39;49m\u001b[43madd\u001b[49m(\u001b[38;5;241m6\u001b[39m)\n",
      "\u001b[1;31mAttributeError\u001b[0m: 'frozenset' object has no attribute 'add'"
     ]
    }
   ],
   "source": [
    "s5.add(6)"
   ]
  },
  {
   "cell_type": "code",
   "execution_count": 78,
   "id": "514a0809",
   "metadata": {},
   "outputs": [
    {
     "ename": "AttributeError",
     "evalue": "'frozenset' object has no attribute 'update'",
     "output_type": "error",
     "traceback": [
      "\u001b[1;31m---------------------------------------------------------------------------\u001b[0m",
      "\u001b[1;31mAttributeError\u001b[0m                            Traceback (most recent call last)",
      "Cell \u001b[1;32mIn[78], line 1\u001b[0m\n\u001b[1;32m----> 1\u001b[0m \u001b[43ms5\u001b[49m\u001b[38;5;241;43m.\u001b[39;49m\u001b[43mupdate\u001b[49m([\u001b[38;5;241m7\u001b[39m,\u001b[38;5;241m8\u001b[39m])\n",
      "\u001b[1;31mAttributeError\u001b[0m: 'frozenset' object has no attribute 'update'"
     ]
    }
   ],
   "source": [
    "s5.update([7,8])"
   ]
  },
  {
   "cell_type": "code",
   "execution_count": 79,
   "id": "d8f6f3c5",
   "metadata": {},
   "outputs": [
    {
     "ename": "AttributeError",
     "evalue": "'frozenset' object has no attribute 'remove'",
     "output_type": "error",
     "traceback": [
      "\u001b[1;31m---------------------------------------------------------------------------\u001b[0m",
      "\u001b[1;31mAttributeError\u001b[0m                            Traceback (most recent call last)",
      "Cell \u001b[1;32mIn[79], line 1\u001b[0m\n\u001b[1;32m----> 1\u001b[0m \u001b[43ms5\u001b[49m\u001b[38;5;241;43m.\u001b[39;49m\u001b[43mremove\u001b[49m(\u001b[38;5;241m1\u001b[39m)\n",
      "\u001b[1;31mAttributeError\u001b[0m: 'frozenset' object has no attribute 'remove'"
     ]
    }
   ],
   "source": [
    "s5.remove(1)"
   ]
  },
  {
   "cell_type": "code",
   "execution_count": 80,
   "id": "d63d76b3",
   "metadata": {},
   "outputs": [
    {
     "data": {
      "text/plain": [
       "{1, 2, 4, 10}"
      ]
     },
     "execution_count": 80,
     "metadata": {},
     "output_type": "execute_result"
    }
   ],
   "source": [
    "s4"
   ]
  },
  {
   "cell_type": "code",
   "execution_count": 81,
   "id": "c0fd244a",
   "metadata": {},
   "outputs": [
    {
     "data": {
      "text/plain": [
       "True"
      ]
     },
     "execution_count": 81,
     "metadata": {},
     "output_type": "execute_result"
    }
   ],
   "source": [
    "1 in s4"
   ]
  },
  {
   "cell_type": "code",
   "execution_count": 82,
   "id": "e3ad9069",
   "metadata": {},
   "outputs": [
    {
     "data": {
      "text/plain": [
       "False"
      ]
     },
     "execution_count": 82,
     "metadata": {},
     "output_type": "execute_result"
    }
   ],
   "source": [
    "2 not in s4"
   ]
  },
  {
   "cell_type": "code",
   "execution_count": 83,
   "id": "56064fe7",
   "metadata": {},
   "outputs": [
    {
     "data": {
      "text/plain": [
       "True"
      ]
     },
     "execution_count": 83,
     "metadata": {},
     "output_type": "execute_result"
    }
   ],
   "source": [
    "11 not in s4"
   ]
  },
  {
   "cell_type": "code",
   "execution_count": 84,
   "id": "a831c62b",
   "metadata": {},
   "outputs": [
    {
     "data": {
      "text/plain": [
       "False"
      ]
     },
     "execution_count": 84,
     "metadata": {},
     "output_type": "execute_result"
    }
   ],
   "source": [
    "1 not in s4"
   ]
  },
  {
   "cell_type": "code",
   "execution_count": 85,
   "id": "e7890b59",
   "metadata": {},
   "outputs": [],
   "source": [
    "######################################"
   ]
  },
  {
   "cell_type": "code",
   "execution_count": 86,
   "id": "dd7ca43a",
   "metadata": {},
   "outputs": [],
   "source": [
    "del s5"
   ]
  },
  {
   "cell_type": "code",
   "execution_count": 88,
   "id": "e98bb08c",
   "metadata": {},
   "outputs": [
    {
     "data": {
      "text/plain": [
       "{1, 2, 3, 4}"
      ]
     },
     "execution_count": 88,
     "metadata": {},
     "output_type": "execute_result"
    }
   ],
   "source": [
    "s1"
   ]
  },
  {
   "cell_type": "code",
   "execution_count": 89,
   "id": "36b84a81",
   "metadata": {},
   "outputs": [],
   "source": [
    "s2 = frozenset(s1)"
   ]
  },
  {
   "cell_type": "code",
   "execution_count": 90,
   "id": "abc6e9f6",
   "metadata": {},
   "outputs": [
    {
     "data": {
      "text/plain": [
       "frozenset({1, 2, 3, 4})"
      ]
     },
     "execution_count": 90,
     "metadata": {},
     "output_type": "execute_result"
    }
   ],
   "source": [
    "s2"
   ]
  },
  {
   "cell_type": "code",
   "execution_count": 91,
   "id": "374fa924",
   "metadata": {},
   "outputs": [
    {
     "ename": "AttributeError",
     "evalue": "'frozenset' object has no attribute 'add'",
     "output_type": "error",
     "traceback": [
      "\u001b[1;31m---------------------------------------------------------------------------\u001b[0m",
      "\u001b[1;31mAttributeError\u001b[0m                            Traceback (most recent call last)",
      "Cell \u001b[1;32mIn[91], line 1\u001b[0m\n\u001b[1;32m----> 1\u001b[0m \u001b[43ms2\u001b[49m\u001b[38;5;241;43m.\u001b[39;49m\u001b[43madd\u001b[49m(\u001b[38;5;241m5\u001b[39m)\n",
      "\u001b[1;31mAttributeError\u001b[0m: 'frozenset' object has no attribute 'add'"
     ]
    }
   ],
   "source": [
    "s2.add(5)"
   ]
  },
  {
   "cell_type": "code",
   "execution_count": 92,
   "id": "67a1ad58",
   "metadata": {},
   "outputs": [
    {
     "ename": "AttributeError",
     "evalue": "'frozenset' object has no attribute 'remove'",
     "output_type": "error",
     "traceback": [
      "\u001b[1;31m---------------------------------------------------------------------------\u001b[0m",
      "\u001b[1;31mAttributeError\u001b[0m                            Traceback (most recent call last)",
      "Cell \u001b[1;32mIn[92], line 1\u001b[0m\n\u001b[1;32m----> 1\u001b[0m \u001b[43ms2\u001b[49m\u001b[38;5;241;43m.\u001b[39;49m\u001b[43mremove\u001b[49m(\u001b[38;5;241m4\u001b[39m)\n",
      "\u001b[1;31mAttributeError\u001b[0m: 'frozenset' object has no attribute 'remove'"
     ]
    }
   ],
   "source": [
    "s2.remove(4)"
   ]
  },
  {
   "cell_type": "code",
   "execution_count": 93,
   "id": "407008eb",
   "metadata": {},
   "outputs": [
    {
     "ename": "AttributeError",
     "evalue": "'frozenset' object has no attribute 'clear'",
     "output_type": "error",
     "traceback": [
      "\u001b[1;31m---------------------------------------------------------------------------\u001b[0m",
      "\u001b[1;31mAttributeError\u001b[0m                            Traceback (most recent call last)",
      "Cell \u001b[1;32mIn[93], line 1\u001b[0m\n\u001b[1;32m----> 1\u001b[0m \u001b[43ms2\u001b[49m\u001b[38;5;241;43m.\u001b[39;49m\u001b[43mclear\u001b[49m()\n",
      "\u001b[1;31mAttributeError\u001b[0m: 'frozenset' object has no attribute 'clear'"
     ]
    }
   ],
   "source": [
    "s2.clear()"
   ]
  },
  {
   "cell_type": "code",
   "execution_count": 94,
   "id": "cba90e27",
   "metadata": {},
   "outputs": [],
   "source": [
    "del s2"
   ]
  },
  {
   "cell_type": "code",
   "execution_count": 95,
   "id": "ee9a633c",
   "metadata": {},
   "outputs": [],
   "source": [
    "####################################"
   ]
  },
  {
   "cell_type": "code",
   "execution_count": 96,
   "id": "bf0883e5",
   "metadata": {},
   "outputs": [],
   "source": [
    "    #diff bw tuple and frozen set:\n",
    "    #1. tuples are ordered, frozen sets are unordered\n",
    "    #2. tuples allow duplicate elements, frozen sets do not allow duplicate elements"
   ]
  },
  {
   "cell_type": "code",
   "execution_count": 97,
   "id": "37c0b61e",
   "metadata": {},
   "outputs": [],
   "source": [
    "########################################"
   ]
  },
  {
   "cell_type": "markdown",
   "id": "4070b8d4",
   "metadata": {},
   "source": [
    "# dictionary"
   ]
  },
  {
   "cell_type": "code",
   "execution_count": 98,
   "id": "740ddf7f",
   "metadata": {},
   "outputs": [],
   "source": [
    "#key:value pairs\n",
    "#keys are unique\n",
    "#keys are immutable [list - no, sets - no, tuple - yes]\n",
    "#values can be of any type\n",
    "#access values by keys"
   ]
  },
  {
   "cell_type": "code",
   "execution_count": 99,
   "id": "a2355795",
   "metadata": {},
   "outputs": [],
   "source": [
    "mydict = dict()"
   ]
  },
  {
   "cell_type": "code",
   "execution_count": 100,
   "id": "fea1b468",
   "metadata": {},
   "outputs": [
    {
     "data": {
      "text/plain": [
       "dict"
      ]
     },
     "execution_count": 100,
     "metadata": {},
     "output_type": "execute_result"
    }
   ],
   "source": [
    "type(mydict)"
   ]
  },
  {
   "cell_type": "code",
   "execution_count": 101,
   "id": "ca092b30",
   "metadata": {},
   "outputs": [],
   "source": [
    "mydict = {}"
   ]
  },
  {
   "cell_type": "code",
   "execution_count": 102,
   "id": "52fcd6e6",
   "metadata": {},
   "outputs": [
    {
     "data": {
      "text/plain": [
       "dict"
      ]
     },
     "execution_count": 102,
     "metadata": {},
     "output_type": "execute_result"
    }
   ],
   "source": [
    "type(mydict)"
   ]
  },
  {
   "cell_type": "code",
   "execution_count": 103,
   "id": "eec5025a",
   "metadata": {},
   "outputs": [],
   "source": [
    "mydict = {\"a\":1,\"b\":2,\"c\":3,\"d\":4}"
   ]
  },
  {
   "cell_type": "code",
   "execution_count": 104,
   "id": "3e3fa6e0",
   "metadata": {},
   "outputs": [
    {
     "data": {
      "text/plain": [
       "dict_keys(['a', 'b', 'c', 'd'])"
      ]
     },
     "execution_count": 104,
     "metadata": {},
     "output_type": "execute_result"
    }
   ],
   "source": [
    "mydict.keys()"
   ]
  },
  {
   "cell_type": "code",
   "execution_count": 105,
   "id": "8d045b8e",
   "metadata": {},
   "outputs": [
    {
     "data": {
      "text/plain": [
       "dict_values([1, 2, 3, 4])"
      ]
     },
     "execution_count": 105,
     "metadata": {},
     "output_type": "execute_result"
    }
   ],
   "source": [
    "mydict.values()"
   ]
  },
  {
   "cell_type": "code",
   "execution_count": 106,
   "id": "4eb4005c",
   "metadata": {},
   "outputs": [
    {
     "data": {
      "text/plain": [
       "dict_items([('a', 1), ('b', 2), ('c', 3), ('d', 4)])"
      ]
     },
     "execution_count": 106,
     "metadata": {},
     "output_type": "execute_result"
    }
   ],
   "source": [
    "mydict.items()"
   ]
  },
  {
   "cell_type": "code",
   "execution_count": 107,
   "id": "504449d3",
   "metadata": {},
   "outputs": [],
   "source": [
    "mylist = [\"apple\",\"orange\"]"
   ]
  },
  {
   "cell_type": "code",
   "execution_count": 109,
   "id": "8fa05cc8",
   "metadata": {},
   "outputs": [
    {
     "data": {
      "text/plain": [
       "'orange'"
      ]
     },
     "execution_count": 109,
     "metadata": {},
     "output_type": "execute_result"
    }
   ],
   "source": [
    "mylist[1]"
   ]
  },
  {
   "cell_type": "code",
   "execution_count": 113,
   "id": "55383269",
   "metadata": {},
   "outputs": [
    {
     "data": {
      "text/plain": [
       "4"
      ]
     },
     "execution_count": 113,
     "metadata": {},
     "output_type": "execute_result"
    }
   ],
   "source": [
    "mydict[\"d\"]"
   ]
  },
  {
   "cell_type": "code",
   "execution_count": 114,
   "id": "3718acfd",
   "metadata": {},
   "outputs": [
    {
     "data": {
      "text/plain": [
       "{'a': 1, 'b': 2, 'c': 3, 'd': 4}"
      ]
     },
     "execution_count": 114,
     "metadata": {},
     "output_type": "execute_result"
    }
   ],
   "source": [
    "mydict"
   ]
  },
  {
   "cell_type": "code",
   "execution_count": 115,
   "id": "af25d048",
   "metadata": {},
   "outputs": [],
   "source": [
    "#e:5"
   ]
  },
  {
   "cell_type": "code",
   "execution_count": 116,
   "id": "2f6c39de",
   "metadata": {},
   "outputs": [],
   "source": [
    "mydict[\"e\"] = 5"
   ]
  },
  {
   "cell_type": "code",
   "execution_count": 117,
   "id": "90079f8f",
   "metadata": {},
   "outputs": [
    {
     "data": {
      "text/plain": [
       "{'a': 1, 'b': 2, 'c': 3, 'd': 4, 'e': 5}"
      ]
     },
     "execution_count": 117,
     "metadata": {},
     "output_type": "execute_result"
    }
   ],
   "source": [
    "mydict"
   ]
  },
  {
   "cell_type": "code",
   "execution_count": 119,
   "id": "d60790b4",
   "metadata": {},
   "outputs": [],
   "source": [
    "del mydict[\"a\"]"
   ]
  },
  {
   "cell_type": "code",
   "execution_count": 120,
   "id": "6f7d3ffe",
   "metadata": {},
   "outputs": [
    {
     "data": {
      "text/plain": [
       "{'b': 2, 'c': 3, 'd': 4, 'e': 5}"
      ]
     },
     "execution_count": 120,
     "metadata": {},
     "output_type": "execute_result"
    }
   ],
   "source": [
    "mydict"
   ]
  },
  {
   "cell_type": "code",
   "execution_count": 121,
   "id": "0673b8c6",
   "metadata": {},
   "outputs": [
    {
     "data": {
      "text/plain": [
       "3"
      ]
     },
     "execution_count": 121,
     "metadata": {},
     "output_type": "execute_result"
    }
   ],
   "source": [
    "mydict.pop(\"c\")"
   ]
  },
  {
   "cell_type": "code",
   "execution_count": 122,
   "id": "a996d751",
   "metadata": {},
   "outputs": [
    {
     "data": {
      "text/plain": [
       "{'b': 2, 'd': 4, 'e': 5}"
      ]
     },
     "execution_count": 122,
     "metadata": {},
     "output_type": "execute_result"
    }
   ],
   "source": [
    "mydict"
   ]
  },
  {
   "cell_type": "code",
   "execution_count": 123,
   "id": "6db6b9e5",
   "metadata": {},
   "outputs": [],
   "source": [
    "mydict.clear()"
   ]
  },
  {
   "cell_type": "code",
   "execution_count": 124,
   "id": "ba8f8472",
   "metadata": {},
   "outputs": [
    {
     "data": {
      "text/plain": [
       "{}"
      ]
     },
     "execution_count": 124,
     "metadata": {},
     "output_type": "execute_result"
    }
   ],
   "source": [
    "mydict"
   ]
  },
  {
   "cell_type": "code",
   "execution_count": 125,
   "id": "5c8452bc",
   "metadata": {},
   "outputs": [],
   "source": [
    "mydict = {\"a\":1,\"b\":2,\"c\":3,\"d\":4}"
   ]
  },
  {
   "cell_type": "code",
   "execution_count": 126,
   "id": "ed7cc22b",
   "metadata": {},
   "outputs": [
    {
     "data": {
      "text/plain": [
       "{'a': 1, 'b': 2, 'c': 3, 'd': 4}"
      ]
     },
     "execution_count": 126,
     "metadata": {},
     "output_type": "execute_result"
    }
   ],
   "source": [
    "mydict"
   ]
  },
  {
   "cell_type": "code",
   "execution_count": 127,
   "id": "f7875be2",
   "metadata": {},
   "outputs": [
    {
     "data": {
      "text/plain": [
       "2"
      ]
     },
     "execution_count": 127,
     "metadata": {},
     "output_type": "execute_result"
    }
   ],
   "source": [
    "mydict[\"b\"]"
   ]
  },
  {
   "cell_type": "code",
   "execution_count": 128,
   "id": "e0bca3a1",
   "metadata": {},
   "outputs": [
    {
     "data": {
      "text/plain": [
       "2"
      ]
     },
     "execution_count": 128,
     "metadata": {},
     "output_type": "execute_result"
    }
   ],
   "source": [
    "mydict.get(\"b\")"
   ]
  },
  {
   "cell_type": "code",
   "execution_count": 129,
   "id": "23cf9221",
   "metadata": {},
   "outputs": [
    {
     "data": {
      "text/plain": [
       "3"
      ]
     },
     "execution_count": 129,
     "metadata": {},
     "output_type": "execute_result"
    }
   ],
   "source": [
    "mydict.pop(\"c\")"
   ]
  },
  {
   "cell_type": "code",
   "execution_count": 130,
   "id": "baeaff9a",
   "metadata": {},
   "outputs": [
    {
     "data": {
      "text/plain": [
       "{'a': 1, 'b': 2, 'd': 4}"
      ]
     },
     "execution_count": 130,
     "metadata": {},
     "output_type": "execute_result"
    }
   ],
   "source": [
    "mydict"
   ]
  },
  {
   "cell_type": "code",
   "execution_count": 131,
   "id": "9a775594",
   "metadata": {},
   "outputs": [],
   "source": [
    "del mydict"
   ]
  },
  {
   "cell_type": "code",
   "execution_count": 132,
   "id": "b1f5715c",
   "metadata": {},
   "outputs": [
    {
     "ename": "NameError",
     "evalue": "name 'mydict' is not defined",
     "output_type": "error",
     "traceback": [
      "\u001b[1;31m---------------------------------------------------------------------------\u001b[0m",
      "\u001b[1;31mNameError\u001b[0m                                 Traceback (most recent call last)",
      "Cell \u001b[1;32mIn[132], line 1\u001b[0m\n\u001b[1;32m----> 1\u001b[0m \u001b[43mmydict\u001b[49m\n",
      "\u001b[1;31mNameError\u001b[0m: name 'mydict' is not defined"
     ]
    }
   ],
   "source": [
    "mydict"
   ]
  },
  {
   "cell_type": "code",
   "execution_count": 133,
   "id": "01ec9b93",
   "metadata": {},
   "outputs": [],
   "source": [
    "d = {\"b\":2,\"a\":3,\"c\":1}"
   ]
  },
  {
   "cell_type": "code",
   "execution_count": 134,
   "id": "01556db3",
   "metadata": {},
   "outputs": [],
   "source": [
    "d[\"z\"] = 4"
   ]
  },
  {
   "cell_type": "code",
   "execution_count": 135,
   "id": "4984d7b9",
   "metadata": {},
   "outputs": [
    {
     "data": {
      "text/plain": [
       "{'b': 2, 'a': 3, 'c': 1, 'z': 4}"
      ]
     },
     "execution_count": 135,
     "metadata": {},
     "output_type": "execute_result"
    }
   ],
   "source": [
    "d"
   ]
  },
  {
   "cell_type": "code",
   "execution_count": 136,
   "id": "429993ea",
   "metadata": {},
   "outputs": [],
   "source": [
    "d.update({\"y\":7})"
   ]
  },
  {
   "cell_type": "code",
   "execution_count": 137,
   "id": "e07f2064",
   "metadata": {},
   "outputs": [
    {
     "data": {
      "text/plain": [
       "{'b': 2, 'a': 3, 'c': 1, 'z': 4, 'y': 7}"
      ]
     },
     "execution_count": 137,
     "metadata": {},
     "output_type": "execute_result"
    }
   ],
   "source": [
    "d"
   ]
  },
  {
   "cell_type": "code",
   "execution_count": 138,
   "id": "0133912d",
   "metadata": {},
   "outputs": [],
   "source": [
    "d ={\n",
    "    \n",
    "    \"x\":{\"a\":1,\"b\":2},\"y\":{\"z\":4,\"t\":5}\n",
    "    \n",
    "}"
   ]
  },
  {
   "cell_type": "code",
   "execution_count": 139,
   "id": "f418fceb",
   "metadata": {},
   "outputs": [
    {
     "data": {
      "text/plain": [
       "{'x': {'a': 1, 'b': 2}, 'y': {'z': 4, 't': 5}}"
      ]
     },
     "execution_count": 139,
     "metadata": {},
     "output_type": "execute_result"
    }
   ],
   "source": [
    "d"
   ]
  },
  {
   "cell_type": "code",
   "execution_count": 140,
   "id": "5f9eef19",
   "metadata": {},
   "outputs": [
    {
     "data": {
      "text/plain": [
       "dict_values([{'a': 1, 'b': 2}, {'z': 4, 't': 5}])"
      ]
     },
     "execution_count": 140,
     "metadata": {},
     "output_type": "execute_result"
    }
   ],
   "source": [
    "d.values()"
   ]
  },
  {
   "cell_type": "code",
   "execution_count": 141,
   "id": "207d7993",
   "metadata": {},
   "outputs": [
    {
     "data": {
      "text/plain": [
       "dict_keys(['x', 'y'])"
      ]
     },
     "execution_count": 141,
     "metadata": {},
     "output_type": "execute_result"
    }
   ],
   "source": [
    "d.keys()"
   ]
  },
  {
   "cell_type": "code",
   "execution_count": 142,
   "id": "7ee9aeee",
   "metadata": {},
   "outputs": [
    {
     "data": {
      "text/plain": [
       "{'a': 1, 'b': 2}"
      ]
     },
     "execution_count": 142,
     "metadata": {},
     "output_type": "execute_result"
    }
   ],
   "source": [
    "d[\"x\"]"
   ]
  },
  {
   "cell_type": "code",
   "execution_count": 143,
   "id": "3e9e81bc",
   "metadata": {},
   "outputs": [
    {
     "data": {
      "text/plain": [
       "{'z': 4, 't': 5}"
      ]
     },
     "execution_count": 143,
     "metadata": {},
     "output_type": "execute_result"
    }
   ],
   "source": [
    "d[\"y\"]"
   ]
  },
  {
   "cell_type": "code",
   "execution_count": 144,
   "id": "0339ed17",
   "metadata": {},
   "outputs": [
    {
     "data": {
      "text/plain": [
       "1"
      ]
     },
     "execution_count": 144,
     "metadata": {},
     "output_type": "execute_result"
    }
   ],
   "source": [
    "d[\"x\"][\"a\"]"
   ]
  },
  {
   "cell_type": "code",
   "execution_count": 145,
   "id": "e122316f",
   "metadata": {},
   "outputs": [
    {
     "data": {
      "text/plain": [
       "2"
      ]
     },
     "execution_count": 145,
     "metadata": {},
     "output_type": "execute_result"
    }
   ],
   "source": [
    "d[\"x\"][\"b\"]"
   ]
  },
  {
   "cell_type": "code",
   "execution_count": 146,
   "id": "6f6ff4a4",
   "metadata": {},
   "outputs": [
    {
     "data": {
      "text/plain": [
       "4"
      ]
     },
     "execution_count": 146,
     "metadata": {},
     "output_type": "execute_result"
    }
   ],
   "source": [
    "d[\"y\"][\"z\"]"
   ]
  },
  {
   "cell_type": "code",
   "execution_count": 147,
   "id": "b23931dd",
   "metadata": {},
   "outputs": [
    {
     "data": {
      "text/plain": [
       "5"
      ]
     },
     "execution_count": 147,
     "metadata": {},
     "output_type": "execute_result"
    }
   ],
   "source": [
    "d[\"y\"][\"t\"]"
   ]
  },
  {
   "cell_type": "code",
   "execution_count": 149,
   "id": "739f2c9a",
   "metadata": {},
   "outputs": [],
   "source": [
    "#zip() - combines multiple iterables into single iterable of tuples\n",
    "#zip(i1,i2....)"
   ]
  },
  {
   "cell_type": "code",
   "execution_count": 157,
   "id": "9e2083e0",
   "metadata": {},
   "outputs": [],
   "source": [
    "names = [\"a\",\"b\",\"c\"]\n",
    "scores = [71,78,65]"
   ]
  },
  {
   "cell_type": "code",
   "execution_count": 158,
   "id": "2d412d77",
   "metadata": {},
   "outputs": [],
   "source": [
    "zipped = zip(names, scores)"
   ]
  },
  {
   "cell_type": "code",
   "execution_count": 159,
   "id": "a1ee16a4",
   "metadata": {},
   "outputs": [
    {
     "data": {
      "text/plain": [
       "<zip at 0x22516ff10c0>"
      ]
     },
     "execution_count": 159,
     "metadata": {},
     "output_type": "execute_result"
    }
   ],
   "source": [
    "zipped"
   ]
  },
  {
   "cell_type": "code",
   "execution_count": 160,
   "id": "cce6f8a6",
   "metadata": {},
   "outputs": [
    {
     "data": {
      "text/plain": [
       "[('a', 71), ('b', 78), ('c', 65)]"
      ]
     },
     "execution_count": 160,
     "metadata": {},
     "output_type": "execute_result"
    }
   ],
   "source": [
    "list(zipped)"
   ]
  },
  {
   "cell_type": "code",
   "execution_count": 161,
   "id": "b69259cb",
   "metadata": {},
   "outputs": [],
   "source": [
    "pairs = [('a', 71), ('b', 78), ('c', 65)]"
   ]
  },
  {
   "cell_type": "code",
   "execution_count": 162,
   "id": "e23f1dc2",
   "metadata": {},
   "outputs": [],
   "source": [
    "names, scores = zip(*pairs)"
   ]
  },
  {
   "cell_type": "code",
   "execution_count": 163,
   "id": "9fe54aa9",
   "metadata": {},
   "outputs": [
    {
     "data": {
      "text/plain": [
       "('a', 'b', 'c')"
      ]
     },
     "execution_count": 163,
     "metadata": {},
     "output_type": "execute_result"
    }
   ],
   "source": [
    "names"
   ]
  },
  {
   "cell_type": "code",
   "execution_count": 166,
   "id": "3ee2410b",
   "metadata": {},
   "outputs": [
    {
     "data": {
      "text/plain": [
       "['a', 'b', 'c']"
      ]
     },
     "execution_count": 166,
     "metadata": {},
     "output_type": "execute_result"
    }
   ],
   "source": [
    "list(names)"
   ]
  },
  {
   "cell_type": "code",
   "execution_count": 164,
   "id": "71946f38",
   "metadata": {},
   "outputs": [
    {
     "data": {
      "text/plain": [
       "(71, 78, 65)"
      ]
     },
     "execution_count": 164,
     "metadata": {},
     "output_type": "execute_result"
    }
   ],
   "source": [
    "scores"
   ]
  },
  {
   "cell_type": "code",
   "execution_count": 167,
   "id": "1ca792fd",
   "metadata": {},
   "outputs": [
    {
     "data": {
      "text/plain": [
       "[71, 78, 65]"
      ]
     },
     "execution_count": 167,
     "metadata": {},
     "output_type": "execute_result"
    }
   ],
   "source": [
    "list(scores)"
   ]
  },
  {
   "cell_type": "code",
   "execution_count": 165,
   "id": "712d47c5",
   "metadata": {},
   "outputs": [],
   "source": [
    "########################"
   ]
  },
  {
   "cell_type": "markdown",
   "id": "3965f56b",
   "metadata": {},
   "source": [
    "# strings"
   ]
  },
  {
   "cell_type": "code",
   "execution_count": 168,
   "id": "13d409f6",
   "metadata": {},
   "outputs": [],
   "source": [
    "s1 = \"hello\""
   ]
  },
  {
   "cell_type": "code",
   "execution_count": 169,
   "id": "ecb565be",
   "metadata": {},
   "outputs": [
    {
     "data": {
      "text/plain": [
       "5"
      ]
     },
     "execution_count": 169,
     "metadata": {},
     "output_type": "execute_result"
    }
   ],
   "source": [
    "len(s1)"
   ]
  },
  {
   "cell_type": "code",
   "execution_count": 175,
   "id": "fbec135c",
   "metadata": {},
   "outputs": [
    {
     "data": {
      "text/plain": [
       "'hello'"
      ]
     },
     "execution_count": 175,
     "metadata": {},
     "output_type": "execute_result"
    }
   ],
   "source": [
    "s1[:]"
   ]
  },
  {
   "cell_type": "code",
   "execution_count": 176,
   "id": "873c1f33",
   "metadata": {},
   "outputs": [
    {
     "data": {
      "text/plain": [
       "'hello'"
      ]
     },
     "execution_count": 176,
     "metadata": {},
     "output_type": "execute_result"
    }
   ],
   "source": [
    "s1"
   ]
  },
  {
   "cell_type": "code",
   "execution_count": 177,
   "id": "431d095d",
   "metadata": {},
   "outputs": [
    {
     "data": {
      "text/plain": [
       "'HELLO'"
      ]
     },
     "execution_count": 177,
     "metadata": {},
     "output_type": "execute_result"
    }
   ],
   "source": [
    "s1.upper()"
   ]
  },
  {
   "cell_type": "code",
   "execution_count": 178,
   "id": "3c455122",
   "metadata": {},
   "outputs": [],
   "source": [
    "s2 = \"SHUBH\""
   ]
  },
  {
   "cell_type": "code",
   "execution_count": 179,
   "id": "4a4aab33",
   "metadata": {},
   "outputs": [
    {
     "data": {
      "text/plain": [
       "'shubh'"
      ]
     },
     "execution_count": 179,
     "metadata": {},
     "output_type": "execute_result"
    }
   ],
   "source": [
    "s2.lower()"
   ]
  },
  {
   "cell_type": "code",
   "execution_count": 180,
   "id": "b6599e1d",
   "metadata": {},
   "outputs": [],
   "source": [
    "s2 = \"my name is shubh\""
   ]
  },
  {
   "cell_type": "code",
   "execution_count": 181,
   "id": "365c7aa8",
   "metadata": {},
   "outputs": [
    {
     "data": {
      "text/plain": [
       "'My Name Is Shubh'"
      ]
     },
     "execution_count": 181,
     "metadata": {},
     "output_type": "execute_result"
    }
   ],
   "source": [
    "s2.title()"
   ]
  },
  {
   "cell_type": "code",
   "execution_count": 182,
   "id": "459260ce",
   "metadata": {},
   "outputs": [],
   "source": [
    "s2 = \"     shubh        \""
   ]
  },
  {
   "cell_type": "code",
   "execution_count": 184,
   "id": "f3a6c389",
   "metadata": {},
   "outputs": [
    {
     "data": {
      "text/plain": [
       "18"
      ]
     },
     "execution_count": 184,
     "metadata": {},
     "output_type": "execute_result"
    }
   ],
   "source": [
    "len(s2)"
   ]
  },
  {
   "cell_type": "code",
   "execution_count": 185,
   "id": "f7412e2f",
   "metadata": {},
   "outputs": [],
   "source": [
    "s3 = s2.strip()"
   ]
  },
  {
   "cell_type": "code",
   "execution_count": 186,
   "id": "d93876c3",
   "metadata": {},
   "outputs": [
    {
     "data": {
      "text/plain": [
       "'shubh'"
      ]
     },
     "execution_count": 186,
     "metadata": {},
     "output_type": "execute_result"
    }
   ],
   "source": [
    "s3"
   ]
  },
  {
   "cell_type": "code",
   "execution_count": 187,
   "id": "01299344",
   "metadata": {},
   "outputs": [
    {
     "data": {
      "text/plain": [
       "5"
      ]
     },
     "execution_count": 187,
     "metadata": {},
     "output_type": "execute_result"
    }
   ],
   "source": [
    "len(s3)"
   ]
  },
  {
   "cell_type": "code",
   "execution_count": 188,
   "id": "5d775e1f",
   "metadata": {},
   "outputs": [
    {
     "data": {
      "text/plain": [
       "'     shubh        '"
      ]
     },
     "execution_count": 188,
     "metadata": {},
     "output_type": "execute_result"
    }
   ],
   "source": [
    "s2"
   ]
  },
  {
   "cell_type": "code",
   "execution_count": 189,
   "id": "9cd8a218",
   "metadata": {},
   "outputs": [
    {
     "data": {
      "text/plain": [
       "'shubh'"
      ]
     },
     "execution_count": 189,
     "metadata": {},
     "output_type": "execute_result"
    }
   ],
   "source": [
    "s3"
   ]
  },
  {
   "cell_type": "code",
   "execution_count": 190,
   "id": "68d17a6c",
   "metadata": {},
   "outputs": [
    {
     "data": {
      "text/plain": [
       "'hello'"
      ]
     },
     "execution_count": 190,
     "metadata": {},
     "output_type": "execute_result"
    }
   ],
   "source": [
    "s1"
   ]
  },
  {
   "cell_type": "code",
   "execution_count": 191,
   "id": "3ac23d30",
   "metadata": {},
   "outputs": [
    {
     "data": {
      "text/plain": [
       "'hyllo'"
      ]
     },
     "execution_count": 191,
     "metadata": {},
     "output_type": "execute_result"
    }
   ],
   "source": [
    "s1.replace('e','y')"
   ]
  },
  {
   "cell_type": "code",
   "execution_count": 192,
   "id": "352f76b4",
   "metadata": {},
   "outputs": [
    {
     "data": {
      "text/plain": [
       "'hetto'"
      ]
     },
     "execution_count": 192,
     "metadata": {},
     "output_type": "execute_result"
    }
   ],
   "source": [
    "s1.replace(\"l\",\"t\")"
   ]
  },
  {
   "cell_type": "code",
   "execution_count": 193,
   "id": "07c8d85e",
   "metadata": {},
   "outputs": [
    {
     "data": {
      "text/plain": [
       "'hello'"
      ]
     },
     "execution_count": 193,
     "metadata": {},
     "output_type": "execute_result"
    }
   ],
   "source": [
    "s1"
   ]
  },
  {
   "cell_type": "code",
   "execution_count": 195,
   "id": "8a2b36e6",
   "metadata": {},
   "outputs": [
    {
     "data": {
      "text/plain": [
       "2"
      ]
     },
     "execution_count": 195,
     "metadata": {},
     "output_type": "execute_result"
    }
   ],
   "source": [
    "s1.find(\"llo\")"
   ]
  },
  {
   "cell_type": "code",
   "execution_count": 196,
   "id": "17ce207c",
   "metadata": {},
   "outputs": [
    {
     "data": {
      "text/plain": [
       "'hello'"
      ]
     },
     "execution_count": 196,
     "metadata": {},
     "output_type": "execute_result"
    }
   ],
   "source": [
    "s1"
   ]
  },
  {
   "cell_type": "code",
   "execution_count": 198,
   "id": "6f3ce3ee",
   "metadata": {},
   "outputs": [
    {
     "data": {
      "text/plain": [
       "1"
      ]
     },
     "execution_count": 198,
     "metadata": {},
     "output_type": "execute_result"
    }
   ],
   "source": [
    "s1.count('h')"
   ]
  },
  {
   "cell_type": "code",
   "execution_count": 199,
   "id": "7b158b24",
   "metadata": {},
   "outputs": [
    {
     "data": {
      "text/plain": [
       "'hello'"
      ]
     },
     "execution_count": 199,
     "metadata": {},
     "output_type": "execute_result"
    }
   ],
   "source": [
    "s1"
   ]
  },
  {
   "cell_type": "code",
   "execution_count": 200,
   "id": "ed0d1376",
   "metadata": {},
   "outputs": [
    {
     "data": {
      "text/plain": [
       "True"
      ]
     },
     "execution_count": 200,
     "metadata": {},
     "output_type": "execute_result"
    }
   ],
   "source": [
    "s1.startswith('h')"
   ]
  },
  {
   "cell_type": "code",
   "execution_count": 201,
   "id": "bdc06eb8",
   "metadata": {},
   "outputs": [
    {
     "data": {
      "text/plain": [
       "True"
      ]
     },
     "execution_count": 201,
     "metadata": {},
     "output_type": "execute_result"
    }
   ],
   "source": [
    "s1.endswith('o')"
   ]
  },
  {
   "cell_type": "code",
   "execution_count": 202,
   "id": "52b362de",
   "metadata": {},
   "outputs": [],
   "source": [
    "mylist = [\"my\",\"name\",\"is\",\"shubham\"]"
   ]
  },
  {
   "cell_type": "code",
   "execution_count": 204,
   "id": "4b19fc25",
   "metadata": {},
   "outputs": [],
   "source": [
    "s = \" \".join(mylist)"
   ]
  },
  {
   "cell_type": "code",
   "execution_count": 205,
   "id": "237048cc",
   "metadata": {},
   "outputs": [
    {
     "data": {
      "text/plain": [
       "'my name is shubham'"
      ]
     },
     "execution_count": 205,
     "metadata": {},
     "output_type": "execute_result"
    }
   ],
   "source": [
    "s"
   ]
  },
  {
   "cell_type": "code",
   "execution_count": 206,
   "id": "19f76834",
   "metadata": {},
   "outputs": [
    {
     "data": {
      "text/plain": [
       "['my', 'name', 'is', 'shubham']"
      ]
     },
     "execution_count": 206,
     "metadata": {},
     "output_type": "execute_result"
    }
   ],
   "source": [
    "s.split(' ')"
   ]
  },
  {
   "cell_type": "code",
   "execution_count": 207,
   "id": "e2a625d4",
   "metadata": {},
   "outputs": [
    {
     "data": {
      "text/plain": [
       "'my name is shubham'"
      ]
     },
     "execution_count": 207,
     "metadata": {},
     "output_type": "execute_result"
    }
   ],
   "source": [
    "s"
   ]
  },
  {
   "cell_type": "code",
   "execution_count": 208,
   "id": "2c838c00",
   "metadata": {},
   "outputs": [
    {
     "data": {
      "text/plain": [
       "'hello'"
      ]
     },
     "execution_count": 208,
     "metadata": {},
     "output_type": "execute_result"
    }
   ],
   "source": [
    "s1"
   ]
  },
  {
   "cell_type": "code",
   "execution_count": 209,
   "id": "4572cc67",
   "metadata": {},
   "outputs": [
    {
     "data": {
      "text/plain": [
       "True"
      ]
     },
     "execution_count": 209,
     "metadata": {},
     "output_type": "execute_result"
    }
   ],
   "source": [
    "s1.isalpha()"
   ]
  },
  {
   "cell_type": "code",
   "execution_count": 210,
   "id": "83d39bd0",
   "metadata": {},
   "outputs": [],
   "source": [
    "s2 = '1234'"
   ]
  },
  {
   "cell_type": "code",
   "execution_count": 211,
   "id": "6523a7e9",
   "metadata": {},
   "outputs": [
    {
     "data": {
      "text/plain": [
       "True"
      ]
     },
     "execution_count": 211,
     "metadata": {},
     "output_type": "execute_result"
    }
   ],
   "source": [
    "s2.isdigit()"
   ]
  },
  {
   "cell_type": "code",
   "execution_count": 212,
   "id": "58413124",
   "metadata": {},
   "outputs": [],
   "source": [
    "s3 = \"123shubham\""
   ]
  },
  {
   "cell_type": "code",
   "execution_count": 213,
   "id": "3baaa3d1",
   "metadata": {},
   "outputs": [
    {
     "data": {
      "text/plain": [
       "True"
      ]
     },
     "execution_count": 213,
     "metadata": {},
     "output_type": "execute_result"
    }
   ],
   "source": [
    "s3.isalnum()"
   ]
  },
  {
   "cell_type": "code",
   "execution_count": 214,
   "id": "5a520d95",
   "metadata": {},
   "outputs": [],
   "source": [
    "s4 = \"      \""
   ]
  },
  {
   "cell_type": "code",
   "execution_count": 215,
   "id": "2d11bcc5",
   "metadata": {},
   "outputs": [
    {
     "data": {
      "text/plain": [
       "True"
      ]
     },
     "execution_count": 215,
     "metadata": {},
     "output_type": "execute_result"
    }
   ],
   "source": [
    "s4.isspace()"
   ]
  },
  {
   "cell_type": "code",
   "execution_count": 216,
   "id": "dde3b8d4",
   "metadata": {},
   "outputs": [],
   "source": [
    "#f - strings"
   ]
  },
  {
   "cell_type": "code",
   "execution_count": 217,
   "id": "5e7aa1de",
   "metadata": {},
   "outputs": [],
   "source": [
    "name = \"shubham\"\n",
    "age = 29"
   ]
  },
  {
   "cell_type": "code",
   "execution_count": 218,
   "id": "4b1b37fd",
   "metadata": {},
   "outputs": [
    {
     "name": "stdout",
     "output_type": "stream",
     "text": [
      "my name is shubham and my age is 29\n"
     ]
    }
   ],
   "source": [
    "print(f\"my name is {name} and my age is {age}\")"
   ]
  },
  {
   "cell_type": "code",
   "execution_count": 219,
   "id": "8314f925",
   "metadata": {},
   "outputs": [],
   "source": [
    "#format"
   ]
  },
  {
   "cell_type": "code",
   "execution_count": 222,
   "id": "3b2d0346",
   "metadata": {},
   "outputs": [
    {
     "name": "stdout",
     "output_type": "stream",
     "text": [
      "my name is shubham and my age is 29\n"
     ]
    }
   ],
   "source": [
    "print(\"my name is {} and my age is {}\".format(name, age))"
   ]
  },
  {
   "cell_type": "code",
   "execution_count": 223,
   "id": "ea9277a7",
   "metadata": {},
   "outputs": [],
   "source": [
    "#######################################################"
   ]
  },
  {
   "cell_type": "code",
   "execution_count": null,
   "id": "0e08faf0",
   "metadata": {},
   "outputs": [],
   "source": []
  }
 ],
 "metadata": {
  "kernelspec": {
   "display_name": "Python 3",
   "language": "python",
   "name": "python3"
  },
  "language_info": {
   "codemirror_mode": {
    "name": "ipython",
    "version": 3
   },
   "file_extension": ".py",
   "mimetype": "text/x-python",
   "name": "python",
   "nbconvert_exporter": "python",
   "pygments_lexer": "ipython3",
   "version": "3.10.9"
  }
 },
 "nbformat": 4,
 "nbformat_minor": 5
}
