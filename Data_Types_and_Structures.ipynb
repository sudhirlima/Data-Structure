{
  "nbformat": 4,
  "nbformat_minor": 0,
  "metadata": {
    "colab": {
      "provenance": []
    },
    "kernelspec": {
      "name": "python3",
      "display_name": "Python 3"
    },
    "language_info": {
      "name": "python"
    }
  },
  "cells": [
    {
      "cell_type": "markdown",
      "source": [
        "# **Data Types and Structures**"
      ],
      "metadata": {
        "id": "p0TQT38hRORq"
      }
    },
    {
      "cell_type": "markdown",
      "source": [
        "1. What are data structures and their importance.\n",
        "\n",
        "A data structure is a method of organizing and storing data so that it can be accessed and modified efficiently.\n",
        "Examples include lists, tuples, dictionaries, and sets in Python.\n",
        "Importance:\n",
        "•\tEnables efficient data processing and access\n",
        "•\tHelps solve complex problems effectively\n",
        "•\tSupports reusability and scalability\n"
      ],
      "metadata": {
        "id": "-WHfYYqHRWMi"
      }
    },
    {
      "cell_type": "markdown",
      "source": [
        "2.Explain the difference between mutable and immutable data types with examples:\n",
        "\n",
        "•\tMutable types can be changed after creation. Example: list, dict, set\n",
        "•\tImmutable types cannot be changed once created. Example: int, float, str, tuple\n",
        "Example:\n",
        "my_list = [1, 2, 3]\n",
        "my_list[0] = 10  # Allowed (mutable)\n",
        "\n",
        "my_tuple = (1, 2, 3)\n",
        "my_tuple[0] = 10  # Error! Tuples are immutable\n"
      ],
      "metadata": {
        "id": "HJMjhud4JBCE"
      }
    },
    {
      "cell_type": "code",
      "source": [
        "my_list = [1,2,3]\n",
        "my_list[0] = 10\n",
        "print(my_list)"
      ],
      "metadata": {
        "colab": {
          "base_uri": "https://localhost:8080/"
        },
        "id": "7zR59oO6Awbs",
        "outputId": "c7a06c59-31a5-4078-9ed0-fb650ab2629c"
      },
      "execution_count": null,
      "outputs": [
        {
          "output_type": "stream",
          "name": "stdout",
          "text": [
            "[10, 2, 3]\n"
          ]
        }
      ]
    },
    {
      "cell_type": "code",
      "source": [
        "my_tuple = (1,2,3)\n",
        "my_tuple[0] = 10 # Error! Tuples are immutable\n",
        "print(my_tuple)"
      ],
      "metadata": {
        "colab": {
          "base_uri": "https://localhost:8080/",
          "height": 176
        },
        "id": "WSHjETGQA3Pb",
        "outputId": "fce93bb9-034e-4eeb-d370-d8fbc46dcd93"
      },
      "execution_count": null,
      "outputs": [
        {
          "output_type": "error",
          "ename": "TypeError",
          "evalue": "'tuple' object does not support item assignment",
          "traceback": [
            "\u001b[0;31m---------------------------------------------------------------------------\u001b[0m",
            "\u001b[0;31mTypeError\u001b[0m                                 Traceback (most recent call last)",
            "\u001b[0;32m<ipython-input-4-bd2415c54048>\u001b[0m in \u001b[0;36m<cell line: 0>\u001b[0;34m()\u001b[0m\n\u001b[1;32m      1\u001b[0m \u001b[0mmy_tuple\u001b[0m \u001b[0;34m=\u001b[0m \u001b[0;34m(\u001b[0m\u001b[0;36m1\u001b[0m\u001b[0;34m,\u001b[0m\u001b[0;36m2\u001b[0m\u001b[0;34m,\u001b[0m\u001b[0;36m3\u001b[0m\u001b[0;34m)\u001b[0m\u001b[0;34m\u001b[0m\u001b[0;34m\u001b[0m\u001b[0m\n\u001b[0;32m----> 2\u001b[0;31m \u001b[0mmy_tuple\u001b[0m\u001b[0;34m[\u001b[0m\u001b[0;36m0\u001b[0m\u001b[0;34m]\u001b[0m \u001b[0;34m=\u001b[0m \u001b[0;36m10\u001b[0m\u001b[0;34m\u001b[0m\u001b[0;34m\u001b[0m\u001b[0m\n\u001b[0m\u001b[1;32m      3\u001b[0m \u001b[0mprint\u001b[0m\u001b[0;34m(\u001b[0m\u001b[0mmy_tuple\u001b[0m\u001b[0;34m)\u001b[0m\u001b[0;34m\u001b[0m\u001b[0;34m\u001b[0m\u001b[0m\n",
            "\u001b[0;31mTypeError\u001b[0m: 'tuple' object does not support item assignment"
          ]
        }
      ]
    },
    {
      "cell_type": "markdown",
      "source": [
        "3. What are the main differences between lists and tuples in Python?\n",
        "\n",
        "List is mutable Tuple is immutable\n",
        "syntax: list [1,2,3] with square bracket\n",
        "syntax: tuple (1,2,3) with simple bracket\n",
        "tuple : fixed data\n",
        "list : can be modified\n"
      ],
      "metadata": {
        "id": "FfBN9QMQBQw1"
      }
    },
    {
      "cell_type": "markdown",
      "source": [
        "4. Describe how dictionaries store data\n",
        "\n",
        "Dictionaries store data as key-value pairs. Each key must be unique and is used to access its corresponding value efficiently.\n",
        "\n",
        "Example:\n",
        "\n",
        "student = {\"name\": \"Alice\", \"age\": 20}\n",
        "\n",
        "print(student[\"name\"])  # Output: Alice\n"
      ],
      "metadata": {
        "id": "km9Bjso_CQf-"
      }
    },
    {
      "cell_type": "code",
      "source": [
        "student = {\"name\": \"Alice\", \"age\": 20}\n",
        "\n",
        "print(student[\"name\"])  # Output: Alice"
      ],
      "metadata": {
        "colab": {
          "base_uri": "https://localhost:8080/"
        },
        "id": "ilSOpELvLlO3",
        "outputId": "244cd2c4-6cba-4689-d541-c62a9013041a"
      },
      "execution_count": null,
      "outputs": [
        {
          "output_type": "stream",
          "name": "stdout",
          "text": [
            "Alice\n"
          ]
        }
      ]
    },
    {
      "cell_type": "markdown",
      "source": [
        "5. Why might you use a set instead of a list in Python?\n",
        "\n",
        "Sets are used when:\n",
        "\n",
        "•\tneed to store unique items (no duplicates)\n",
        "\n",
        "want fast membership testing\n",
        "\n",
        "Example:\n",
        "my_set = {1, 2, 3, 3}  # Output: {1, 2, 3}"
      ],
      "metadata": {
        "id": "UGrvWAUrMTMp"
      }
    },
    {
      "cell_type": "code",
      "source": [
        "my_set = {1,2,3,3,2,2,1,1,2,1,3,2,1,1,2,3}\n",
        "print(my_set)"
      ],
      "metadata": {
        "colab": {
          "base_uri": "https://localhost:8080/"
        },
        "id": "5HGmLHiFMiap",
        "outputId": "4db2fb8f-c63e-4560-8f1f-dff4973f2f6d"
      },
      "execution_count": null,
      "outputs": [
        {
          "output_type": "stream",
          "name": "stdout",
          "text": [
            "{1, 2, 3}\n"
          ]
        }
      ]
    },
    {
      "cell_type": "markdown",
      "source": [
        "6. What is a string in Python, and how is it different from a list?\n",
        "\n",
        "•\tA string is an immutable sequence of characters: 'hello'\n",
        "\n",
        "•\tA list is a mutable sequence that can hold different data types: ['h', 'e', 'l', 'l', 'o']\n"
      ],
      "metadata": {
        "id": "qnfCE-3YUzd0"
      }
    },
    {
      "cell_type": "markdown",
      "source": [
        "7. How do tuples ensure data integrity in Python?\n",
        "\n",
        "Since tuples are immutable, their values cannot be changed. This makes them ideal for data that should remain constant throughout the program.\n"
      ],
      "metadata": {
        "id": "xHtz3vzJV3Ba"
      }
    },
    {
      "cell_type": "markdown",
      "source": [
        "8. What is a hash table, and how does it relate to dictionaries in Python?\n",
        "\n",
        "A hash table is a data structure that maps keys to values using a hash function. In Python, dictionaries are implemented using hash tables.\n"
      ],
      "metadata": {
        "id": "IIDwM0d5WMUQ"
      }
    },
    {
      "cell_type": "markdown",
      "source": [
        "9. Can lists contain different data types in Python?\n",
        "\n",
        "Yes. Python lists are heterogeneous, meaning they can contain multiple data types.\n",
        "\n",
        "Example: [1, \"hello\", 3.14, True]"
      ],
      "metadata": {
        "id": "4juTP9ziWbjo"
      }
    },
    {
      "cell_type": "markdown",
      "source": [
        "10. Explain why strings are immutable in Python\n",
        "\n",
        "Strings are immutable for:\n",
        "\n",
        "•\tPerformance: Faster memory management\n",
        "\n",
        "•\tSecurity: Prevent accidental changes\n",
        "\n",
        "•\tHashing: Allows use as dictionary keys"
      ],
      "metadata": {
        "id": "YD_cqEW1WiBT"
      }
    },
    {
      "cell_type": "markdown",
      "source": [
        "11. What advantages do dictionaries offer over lists for certain tasks?\n",
        "\n",
        "a.\tFaster lookup using keys (O(1) time complexity)\n",
        "\n",
        "b. Key-value pairing helps organize data logically\n",
        "\n",
        "c. More readable and flexible for structured data"
      ],
      "metadata": {
        "id": "Sh5R8Z_mW_0h"
      }
    },
    {
      "cell_type": "markdown",
      "source": [
        "12. Describe a scenario where using a tuple would be preferable over a list\n",
        "\n",
        "A: Tuple to be used where data should not be changed like: Number of prayers in cricket team. Number of hours/ min in a day."
      ],
      "metadata": {
        "id": "7nQCr5zJXTut"
      }
    },
    {
      "cell_type": "markdown",
      "source": [
        "13. How do sets handle duplicate values in Python?\n",
        "\n",
        "A: sets automatically removes duplicate values and print (only uinque items are stored)."
      ],
      "metadata": {
        "id": "e_qi9U09YHlX"
      }
    },
    {
      "cell_type": "markdown",
      "source": [
        "14. How does the \"in\" keyword work differently for lists and dictionaries?\n",
        "\n",
        "A: \"in\" keyword works for lists to check if the value is exists in the list\n",
        " and for dictionary checks if a \"key\" exists or not."
      ],
      "metadata": {
        "id": "ScjhdtT5YY2x"
      }
    },
    {
      "cell_type": "markdown",
      "source": [
        "15. Can you modify the elements of a tuple? Explain why or why not.\n",
        "\n",
        "A: tuple is immutable, so cannot be modified, add, remove or alter once created"
      ],
      "metadata": {
        "id": "pBnauO-gYz63"
      }
    },
    {
      "cell_type": "markdown",
      "source": [
        "16. What is a nested dictionary, and give an example of its use case\n",
        "\n",
        "A: nested dictionary is the one where values themselves are dictionaries.\n",
        "\n",
        "Examples:\n",
        "Employee={\n",
        "  \"name\": \"John\",\n",
        "  \"address\": {\"city\": \"Delhi\", \"zip\": \"110001\"}\n",
        "}"
      ],
      "metadata": {
        "id": "cOAvOafFZNuJ"
      }
    },
    {
      "cell_type": "code",
      "source": [
        "Employee={\n",
        "  \"name\": \"John\",\n",
        "  \"address\": {\"city\": \"Delhi\", \"zip\": \"110001\"}\n",
        "}\n",
        "print(Employee)"
      ],
      "metadata": {
        "colab": {
          "base_uri": "https://localhost:8080/"
        },
        "id": "xW8BArzoVBHJ",
        "outputId": "a74c19d4-fd4c-4af8-9488-e0d0a1cdc9e3"
      },
      "execution_count": null,
      "outputs": [
        {
          "output_type": "stream",
          "name": "stdout",
          "text": [
            "{'name': 'John', 'address': {'city': 'Delhi', 'zip': '110001'}}\n"
          ]
        }
      ]
    },
    {
      "cell_type": "markdown",
      "source": [
        "17. Describe the time complexity of accessing elements in a dictionary\n",
        "\n",
        "Accessing elements by key in a dictionary is O(1) on average (constant time), thanks to the hash table implementation.\n"
      ],
      "metadata": {
        "id": "-B7SWDTs5GLw"
      }
    },
    {
      "cell_type": "markdown",
      "source": [
        "18. In what situations are lists preferred over dictionaries?\n",
        "\n",
        "When data is ordered and sequential\n",
        "\n",
        "When keys are not required\n",
        "\n",
        "When items are accessed by index\n",
        "\n",
        "Example: Maintaining a shopping cart list."
      ],
      "metadata": {
        "id": "XrqvikfF5V-K"
      }
    },
    {
      "cell_type": "markdown",
      "source": [
        "19. Why are dictionaries considered unordered, and how does that affect data retrieval?\n",
        "\n",
        "In earlier Python versions (< 3.7), dictionaries were unordered. From Python 3.7+, insertion order is preserved, but it's not used for lookup key access is still done by hashing."
      ],
      "metadata": {
        "id": "HCRuLT1F5o44"
      }
    },
    {
      "cell_type": "markdown",
      "source": [
        "20. Explain the difference between a list and a dictionary in terms of data retrieval\n",
        "\n",
        "List: Retrieve using index (e.g., list[0])\n",
        "\n",
        "Dictionary: Retrieve using key (e.g., dict[\"name\"])\n",
        "\n",
        "Lists are position-based; dictionaries are key-based."
      ],
      "metadata": {
        "id": "vr-KUiOD6WGj"
      }
    },
    {
      "cell_type": "markdown",
      "source": [
        "# **PRACTICAL QUESTION**"
      ],
      "metadata": {
        "id": "b8uNj-_B7cfz"
      }
    },
    {
      "cell_type": "markdown",
      "source": [
        "1. write a code to create a string with name and print"
      ],
      "metadata": {
        "id": "GD9H2-TD7icC"
      }
    },
    {
      "cell_type": "code",
      "source": [
        "name = \"Sudhir Lima\"\n",
        "print(name)"
      ],
      "metadata": {
        "colab": {
          "base_uri": "https://localhost:8080/"
        },
        "id": "ynUoM7Ss7rjm",
        "outputId": "9868802a-6751-448f-bfad-a582085a3a7c"
      },
      "execution_count": null,
      "outputs": [
        {
          "output_type": "stream",
          "name": "stdout",
          "text": [
            "Sudhir Lima\n"
          ]
        }
      ]
    },
    {
      "cell_type": "markdown",
      "source": [
        "2. write a code to find length of string \"Hello World\""
      ],
      "metadata": {
        "id": "rLMcjvBP8BP9"
      }
    },
    {
      "cell_type": "code",
      "source": [
        "text = \"Hello World\"\n",
        "length = len(text)\n",
        "print(length)\n"
      ],
      "metadata": {
        "colab": {
          "base_uri": "https://localhost:8080/"
        },
        "id": "seanjPaM7wUW",
        "outputId": "94be07f6-6437-48b6-d27f-d6887f968632"
      },
      "execution_count": null,
      "outputs": [
        {
          "output_type": "stream",
          "name": "stdout",
          "text": [
            "11\n"
          ]
        }
      ]
    },
    {
      "cell_type": "markdown",
      "source": [
        "3. write a code to slice the first 3 character from \"Python Programming\""
      ],
      "metadata": {
        "id": "Bc9T_cwa91gO"
      }
    },
    {
      "cell_type": "code",
      "source": [
        "text = \"Python Programming\"\n",
        "slice = text[:3]\n",
        "print(slice)\n",
        "#"
      ],
      "metadata": {
        "colab": {
          "base_uri": "https://localhost:8080/"
        },
        "id": "C1GAPpQh99pB",
        "outputId": "f5cf38e8-f273-4217-ad1e-846434483386"
      },
      "execution_count": null,
      "outputs": [
        {
          "output_type": "stream",
          "name": "stdout",
          "text": [
            "Pyt\n"
          ]
        }
      ]
    },
    {
      "cell_type": "markdown",
      "source": [
        "4. wrote a code to convert 'hello' to uppercase"
      ],
      "metadata": {
        "id": "Y3qx7VKZ-R61"
      }
    },
    {
      "cell_type": "code",
      "source": [
        "text = \"hello\"\n",
        "convert = text.upper()\n",
        "print(convert)"
      ],
      "metadata": {
        "colab": {
          "base_uri": "https://localhost:8080/"
        },
        "id": "kSlIq0cd-XuD",
        "outputId": "a4b24077-8966-436f-807d-7869ed148b12"
      },
      "execution_count": null,
      "outputs": [
        {
          "output_type": "stream",
          "name": "stdout",
          "text": [
            "HELLO\n"
          ]
        }
      ]
    },
    {
      "cell_type": "markdown",
      "source": [
        "5. write a code to replace the word apple with orange in 'I like apple'"
      ],
      "metadata": {
        "id": "72CVBPpa-uKo"
      }
    },
    {
      "cell_type": "code",
      "source": [
        "text = \"I like Apple\"\n",
        "convert = text.replace(\"Apple\", \"Orange\")\n",
        "print(convert)\n",
        "#"
      ],
      "metadata": {
        "id": "0-_ndMrp-2Lt"
      },
      "execution_count": null,
      "outputs": []
    },
    {
      "cell_type": "markdown",
      "source": [
        "6. write a code to create a list of numbers from 1 to 5 and print."
      ],
      "metadata": {
        "id": "ouzkG12S_WF4"
      }
    },
    {
      "cell_type": "code",
      "source": [
        "i = 1\n",
        "list = []\n",
        "while i <= 5:\n",
        "    list.append(i)\n",
        "    i += 1\n",
        "print(list)\n",
        "#"
      ],
      "metadata": {
        "colab": {
          "base_uri": "https://localhost:8080/"
        },
        "id": "1R7UWrVd_dm9",
        "outputId": "bbe679bb-2e0a-4f51-effc-b65cf91fa66e"
      },
      "execution_count": null,
      "outputs": [
        {
          "output_type": "stream",
          "name": "stdout",
          "text": [
            "[1, 2, 3, 4, 5]\n"
          ]
        }
      ]
    },
    {
      "cell_type": "markdown",
      "source": [
        "7. write a code to append the number 10 to the list 1-4."
      ],
      "metadata": {
        "id": "jqMDzXAJAd-x"
      }
    },
    {
      "cell_type": "code",
      "source": [
        "list=[1,2,3,4]\n",
        "list.append(10)\n",
        "print(list)\n"
      ],
      "metadata": {
        "colab": {
          "base_uri": "https://localhost:8080/"
        },
        "id": "bUcYTr4oAmJ1",
        "outputId": "f6ad490d-3c88-4f3a-ba25-68f98390224d"
      },
      "execution_count": null,
      "outputs": [
        {
          "output_type": "stream",
          "name": "stdout",
          "text": [
            "[1, 2, 3, 4, 10]\n"
          ]
        }
      ]
    },
    {
      "cell_type": "markdown",
      "source": [
        "8. write a code to remove the number 3 from the list"
      ],
      "metadata": {
        "id": "TCqJawScA0p2"
      }
    },
    {
      "cell_type": "code",
      "source": [
        "list=[1,2,3,4,5]\n",
        "list.remove(3)\n",
        "print(list)"
      ],
      "metadata": {
        "colab": {
          "base_uri": "https://localhost:8080/"
        },
        "id": "QKpgLE8YA4jd",
        "outputId": "af3d5a52-d94e-4060-8e4b-36af0b1a794a"
      },
      "execution_count": null,
      "outputs": [
        {
          "output_type": "stream",
          "name": "stdout",
          "text": [
            "[1, 2, 4, 5]\n"
          ]
        }
      ]
    },
    {
      "cell_type": "markdown",
      "source": [
        "9. write a code to access 2nd element from the list"
      ],
      "metadata": {
        "id": "0cIyrmTuBGa7"
      }
    },
    {
      "cell_type": "code",
      "source": [
        "list=['a', 'b', 'c', 'd']\n",
        "print(list[1])"
      ],
      "metadata": {
        "colab": {
          "base_uri": "https://localhost:8080/"
        },
        "id": "6jkxQTspA_LQ",
        "outputId": "ded9454d-90ff-4ce4-c03d-859e2e8f0596"
      },
      "execution_count": null,
      "outputs": [
        {
          "output_type": "stream",
          "name": "stdout",
          "text": [
            "b\n"
          ]
        }
      ]
    },
    {
      "cell_type": "markdown",
      "source": [
        "10. write a code to reverse the list"
      ],
      "metadata": {
        "id": "tK-FbLMgBhQ0"
      }
    },
    {
      "cell_type": "code",
      "source": [
        "list=[10,20,30,40,50]\n",
        "list.reverse()\n",
        "print(list)"
      ],
      "metadata": {
        "colab": {
          "base_uri": "https://localhost:8080/"
        },
        "id": "7LFH00GIBXu7",
        "outputId": "9c9f0d85-2d49-4aa8-be71-7fc313d4aeb1"
      },
      "execution_count": null,
      "outputs": [
        {
          "output_type": "stream",
          "name": "stdout",
          "text": [
            "[50, 40, 30, 20, 10]\n"
          ]
        }
      ]
    },
    {
      "cell_type": "markdown",
      "source": [
        "11. write a code with tuple and print with 100,200,300  "
      ],
      "metadata": {
        "id": "yOj3s53avGeJ"
      }
    },
    {
      "cell_type": "code",
      "source": [
        "# Create tuple\n",
        "my_tuple = (100, 200, 300)\n",
        "print(my_tuple)\n"
      ],
      "metadata": {
        "colab": {
          "base_uri": "https://localhost:8080/"
        },
        "id": "ktRQn04Tpqgh",
        "outputId": "93b21418-63fb-4123-f082-96a9827dab85"
      },
      "execution_count": null,
      "outputs": [
        {
          "output_type": "stream",
          "name": "stdout",
          "text": [
            "(100, 200, 300)\n"
          ]
        }
      ]
    },
    {
      "cell_type": "markdown",
      "source": [
        "12. Write a code to access second to last element of tuple ('red', 'green', 'blue', 'yellow')"
      ],
      "metadata": {
        "id": "6n54VVFcyHNP"
      }
    },
    {
      "cell_type": "code",
      "source": [
        "my_tuple = ('red', 'green', 'blue', 'yellow')\n",
        "print(my_tuple[-2])"
      ],
      "metadata": {
        "id": "ksWYPhQTvSCl",
        "colab": {
          "base_uri": "https://localhost:8080/"
        },
        "outputId": "0ac201dd-8a99-418e-9a15-d878c601cbe5"
      },
      "execution_count": null,
      "outputs": [
        {
          "output_type": "stream",
          "name": "stdout",
          "text": [
            "blue\n"
          ]
        }
      ]
    },
    {
      "cell_type": "markdown",
      "source": [
        "13. write a code to find the minimum number of tuple(10,20,5,15)"
      ],
      "metadata": {
        "id": "rBwuCgE-yiDe"
      }
    },
    {
      "cell_type": "code",
      "source": [
        "my_tuple = (10,20,5,15)\n",
        "print(min(my_tuple))"
      ],
      "metadata": {
        "colab": {
          "base_uri": "https://localhost:8080/"
        },
        "id": "P19ak6ceyr4R",
        "outputId": "b6408310-febe-4936-c631-779a94d2fc13"
      },
      "execution_count": null,
      "outputs": [
        {
          "output_type": "stream",
          "name": "stdout",
          "text": [
            "5\n"
          ]
        }
      ]
    },
    {
      "cell_type": "markdown",
      "source": [
        "14. Write a code to find the index of the element \"cat\" in the tuple('dog', 'cat','rabbit')"
      ],
      "metadata": {
        "id": "1CcPY2x9yyMx"
      }
    },
    {
      "cell_type": "code",
      "source": [
        "my_tuple = ('dog', 'cat','rabbit')\n",
        "print(my_tuple.index('cat'))\n"
      ],
      "metadata": {
        "colab": {
          "base_uri": "https://localhost:8080/"
        },
        "id": "2Ji0qnMkzE_c",
        "outputId": "14a13c9b-431d-48ce-9809-33eb71a04ca2"
      },
      "execution_count": null,
      "outputs": [
        {
          "output_type": "stream",
          "name": "stdout",
          "text": [
            "1\n"
          ]
        }
      ]
    },
    {
      "cell_type": "markdown",
      "source": [
        "15. Write a code to creat a tuple containing three different fruits and check if \"kiwi\" is in it."
      ],
      "metadata": {
        "id": "m35FyocgzNX6"
      }
    },
    {
      "cell_type": "code",
      "source": [
        "my_tuple = ('apple', 'banana', 'orange')\n",
        "print('kiwi' in my_tuple)"
      ],
      "metadata": {
        "colab": {
          "base_uri": "https://localhost:8080/"
        },
        "id": "C7QC_RF3zbvB",
        "outputId": "dd76c850-94fd-4ab7-8435-aa021d027bf0"
      },
      "execution_count": null,
      "outputs": [
        {
          "output_type": "stream",
          "name": "stdout",
          "text": [
            "False\n"
          ]
        }
      ]
    },
    {
      "cell_type": "markdown",
      "source": [
        "16. Write a code to creat a set with the elements 'a','b', 'c' and print"
      ],
      "metadata": {
        "id": "Slg9iPOVHDRG"
      }
    },
    {
      "cell_type": "code",
      "source": [
        "set = {'a', 'b', 'c'}\n",
        "print(set)\n",
        "#"
      ],
      "metadata": {
        "colab": {
          "base_uri": "https://localhost:8080/"
        },
        "id": "TukmCY3OHY5e",
        "outputId": "97387502-05e4-424b-ab39-218cc206761a"
      },
      "execution_count": 1,
      "outputs": [
        {
          "output_type": "stream",
          "name": "stdout",
          "text": [
            "{'c', 'b', 'a'}\n"
          ]
        }
      ]
    },
    {
      "cell_type": "markdown",
      "source": [
        "17. write a code to clear all elements from set {1,2,3,4,5}"
      ],
      "metadata": {
        "id": "fuj74S3kH1aE"
      }
    },
    {
      "cell_type": "code",
      "source": [
        "set = {1,2,3,4,5}\n",
        "set.clear()\n",
        "print(set)\n"
      ],
      "metadata": {
        "colab": {
          "base_uri": "https://localhost:8080/"
        },
        "id": "KwARnaK5H9XE",
        "outputId": "b4ea56c1-0617-44fe-96d6-454003cb4c2d"
      },
      "execution_count": 2,
      "outputs": [
        {
          "output_type": "stream",
          "name": "stdout",
          "text": [
            "set()\n"
          ]
        }
      ]
    },
    {
      "cell_type": "markdown",
      "source": [
        "18. write a code to remove the element 4 from set {1,2,3,4,5}"
      ],
      "metadata": {
        "id": "Nd5PVk91IFKH"
      }
    },
    {
      "cell_type": "code",
      "source": [
        "set = {1,2,3,4,5}\n",
        "set.remove(4)\n",
        "print(set)\n",
        "#"
      ],
      "metadata": {
        "colab": {
          "base_uri": "https://localhost:8080/"
        },
        "id": "gJyWDgk3INh3",
        "outputId": "c4bbf09b-7154-4ad2-9551-8ab4295d17af"
      },
      "execution_count": 3,
      "outputs": [
        {
          "output_type": "stream",
          "name": "stdout",
          "text": [
            "{1, 2, 3, 5}\n"
          ]
        }
      ]
    },
    {
      "cell_type": "markdown",
      "source": [
        "19. write a code to print union of 2 sets {1,2,3} and {3,4,5}"
      ],
      "metadata": {
        "id": "lGaBDyHQIfH3"
      }
    },
    {
      "cell_type": "code",
      "source": [
        "set1 = {1,2,3}\n",
        "set2 = {3,4,5}\n",
        "print(set1.union(set2))\n",
        "#"
      ],
      "metadata": {
        "colab": {
          "base_uri": "https://localhost:8080/"
        },
        "id": "KG80AnT9Isd6",
        "outputId": "0d91bea5-0fbf-41e0-bd0a-d84be610a065"
      },
      "execution_count": 4,
      "outputs": [
        {
          "output_type": "stream",
          "name": "stdout",
          "text": [
            "{1, 2, 3, 4, 5}\n"
          ]
        }
      ]
    },
    {
      "cell_type": "markdown",
      "source": [
        "20. write a code to find intersection of 2 sets"
      ],
      "metadata": {
        "id": "VJOJUOaOJQ3t"
      }
    },
    {
      "cell_type": "code",
      "source": [
        "set1 = {1,2,3}\n",
        "set2 = {3,4,5}\n",
        "print(set1.intersection(set2))"
      ],
      "metadata": {
        "colab": {
          "base_uri": "https://localhost:8080/"
        },
        "id": "D70Y6UmnJWqI",
        "outputId": "e8d9ba38-df46-4935-d2a0-ee7c4254cd58"
      },
      "execution_count": 5,
      "outputs": [
        {
          "output_type": "stream",
          "name": "stdout",
          "text": [
            "{3}\n"
          ]
        }
      ]
    },
    {
      "cell_type": "markdown",
      "source": [
        "21. write a code to find dictionary with keys \"name\", \"age\", city and print"
      ],
      "metadata": {
        "id": "_1CKuRM_JbX3"
      }
    },
    {
      "cell_type": "code",
      "source": [
        "dict = {\"name\": \"John\", \"age\": 25, \"city\": \"New Delhi\"}\n",
        "print(dict)\n",
        "#"
      ],
      "metadata": {
        "colab": {
          "base_uri": "https://localhost:8080/"
        },
        "id": "NwI6rC_7Jmx_",
        "outputId": "5b3f5890-812d-479e-a74e-1199c113a289"
      },
      "execution_count": 7,
      "outputs": [
        {
          "output_type": "stream",
          "name": "stdout",
          "text": [
            "{'name': 'John', 'age': 25, 'city': 'New Delhi'}\n"
          ]
        }
      ]
    },
    {
      "cell_type": "markdown",
      "source": [
        "22. write a code to add new value-key pair \"country\":\"USA\" to dictionary {'name':\"John\", \"age\":25}"
      ],
      "metadata": {
        "id": "c84sHXsAKCkM"
      }
    },
    {
      "cell_type": "code",
      "source": [
        "dict = {'name':\"John\", \"age\":25}\n",
        "dict[\"country\"] = \"USA\"\n",
        "print(dict)\n",
        "#\n",
        "#"
      ],
      "metadata": {
        "colab": {
          "base_uri": "https://localhost:8080/"
        },
        "id": "VYJS_O3ZKdtB",
        "outputId": "823c4475-b896-4e79-9190-2484b68829b7"
      },
      "execution_count": 8,
      "outputs": [
        {
          "output_type": "stream",
          "name": "stdout",
          "text": [
            "{'name': 'John', 'age': 25, 'country': 'USA'}\n"
          ]
        }
      ]
    },
    {
      "cell_type": "markdown",
      "source": [
        "23. Write a code to access the value associated with key 'name' in dict {'name': \"Alice\", 'age': 30}"
      ],
      "metadata": {
        "id": "ptTKgLd_Kkz0"
      }
    },
    {
      "cell_type": "code",
      "source": [
        "dict = {'name': \"Alice\", 'age': 30}\n",
        "print(dict['name'])\n",
        "#\n",
        "#"
      ],
      "metadata": {
        "colab": {
          "base_uri": "https://localhost:8080/"
        },
        "id": "NwerSZ8HK6Ij",
        "outputId": "e84d588a-093d-4082-a413-f7e730a4aac2"
      },
      "execution_count": 9,
      "outputs": [
        {
          "output_type": "stream",
          "name": "stdout",
          "text": [
            "Alice\n"
          ]
        }
      ]
    },
    {
      "cell_type": "markdown",
      "source": [
        "24. write a code to remove the key \"age\" from dict {'name': \"Bob\", 'age':22, 'city':\"New York\"}"
      ],
      "metadata": {
        "id": "kDUfZpS1LHJ-"
      }
    },
    {
      "cell_type": "code",
      "source": [
        "dict = {'name': \"Bob\", 'age':22, 'city':\"New York\"}\n",
        "del dict['age']\n",
        "print(dict)\n"
      ],
      "metadata": {
        "colab": {
          "base_uri": "https://localhost:8080/"
        },
        "id": "6I00FCx-LYQ2",
        "outputId": "fcff972e-6615-42e7-9b03-7304c9ec5c36"
      },
      "execution_count": 10,
      "outputs": [
        {
          "output_type": "stream",
          "name": "stdout",
          "text": [
            "{'name': 'Bob', 'city': 'New York'}\n"
          ]
        }
      ]
    },
    {
      "cell_type": "markdown",
      "source": [
        "25. Write a code to check if the key \"city\" exist in the dict"
      ],
      "metadata": {
        "id": "wZt31QPkLrA4"
      }
    },
    {
      "cell_type": "code",
      "source": [
        "dict = {'name': \"Alice\", 'age':22, 'city':\"Paris\"}\n",
        "if 'city' in dict:\n",
        "    print(\"City exists in the dictionary\")\n",
        "else:\n",
        "    print(\"City does not exist in the dictionary\")\n",
        "print('city' in dict)"
      ],
      "metadata": {
        "colab": {
          "base_uri": "https://localhost:8080/"
        },
        "id": "7J4xB_xXLxwO",
        "outputId": "d076622b-a5e2-44f6-8ecb-f42be5169c54"
      },
      "execution_count": 13,
      "outputs": [
        {
          "output_type": "stream",
          "name": "stdout",
          "text": [
            "City exists in the dictionary\n",
            "True\n"
          ]
        }
      ]
    },
    {
      "cell_type": "markdown",
      "source": [
        "26. write a code to creat a list, tuple and dict and print"
      ],
      "metadata": {
        "id": "dvPc_TQeOoEK"
      }
    },
    {
      "cell_type": "code",
      "source": [
        "list = [1,2,3,4,5]\n",
        "print(list)\n",
        "tuple = (1,2,3,4,5)\n",
        "print(tuple)\n",
        "dict = {'name': \"Alice\", 'age':22, 'city':\"Paris\"}\n",
        "print(dict)\n",
        "#"
      ],
      "metadata": {
        "colab": {
          "base_uri": "https://localhost:8080/"
        },
        "id": "KuVfNodPO-Hn",
        "outputId": "4af5c294-6fb2-41dc-cc93-a401400ce8ab"
      },
      "execution_count": 15,
      "outputs": [
        {
          "output_type": "stream",
          "name": "stdout",
          "text": [
            "[1, 2, 3, 4, 5]\n",
            "(1, 2, 3, 4, 5)\n",
            "{'name': 'Alice', 'age': 22, 'city': 'Paris'}\n"
          ]
        }
      ]
    },
    {
      "cell_type": "markdown",
      "source": [
        "27. write a code to create 5 random numbers between 1 & 100, sort in ascending order and print."
      ],
      "metadata": {
        "id": "XSR6vQBlPt_6"
      }
    },
    {
      "cell_type": "code",
      "source": [
        "list = [33,21,73,46,59]\n",
        "list.sort()\n",
        "print(list)\n",
        "list.reverse()\n",
        "print(list)"
      ],
      "metadata": {
        "colab": {
          "base_uri": "https://localhost:8080/"
        },
        "id": "Ov8rrLe3P-EG",
        "outputId": "d5a8bc20-dd83-4d60-b266-25b2a2c0171c"
      },
      "execution_count": 19,
      "outputs": [
        {
          "output_type": "stream",
          "name": "stdout",
          "text": [
            "[21, 33, 46, 59, 73]\n",
            "[73, 59, 46, 33, 21]\n"
          ]
        }
      ]
    },
    {
      "cell_type": "markdown",
      "source": [
        "28. Write a code to create a list with strings and print elements at 3rd index"
      ],
      "metadata": {
        "id": "yYAv7z5_ScNL"
      }
    },
    {
      "cell_type": "code",
      "source": [
        "list = ['a', 'b', 'c', 'd']\n",
        "print(list[3])\n",
        "#"
      ],
      "metadata": {
        "colab": {
          "base_uri": "https://localhost:8080/"
        },
        "id": "sWs2HEK9SnCE",
        "outputId": "1dc62083-b40c-4dba-e045-f2e938345be1"
      },
      "execution_count": 20,
      "outputs": [
        {
          "output_type": "stream",
          "name": "stdout",
          "text": [
            "d\n"
          ]
        }
      ]
    },
    {
      "cell_type": "markdown",
      "source": [
        "29. write a code to combine 2 dict and print"
      ],
      "metadata": {
        "id": "hK3WontmS2aW"
      }
    },
    {
      "cell_type": "code",
      "source": [
        "dict1 = {'a': 1, 'b': 2}\n",
        "dict2 = {'c': 3, 'd': 4}\n",
        "dict3 = {**dict1, **dict2}\n",
        "print(dict3)\n",
        "#\n",
        "#"
      ],
      "metadata": {
        "colab": {
          "base_uri": "https://localhost:8080/"
        },
        "id": "RcUga720S70J",
        "outputId": "9e16e304-5996-4cf6-9bb3-9bc5bedaac49"
      },
      "execution_count": 21,
      "outputs": [
        {
          "output_type": "stream",
          "name": "stdout",
          "text": [
            "{'a': 1, 'b': 2, 'c': 3, 'd': 4}\n"
          ]
        }
      ]
    },
    {
      "cell_type": "markdown",
      "source": [
        "30. Write a code to convert a list of strings into set"
      ],
      "metadata": {
        "id": "WWpgXLsUU83N"
      }
    },
    {
      "cell_type": "code",
      "source": [
        "string_list = [\"apple\", \"banana\", \"cherry\", \"apple\", \"banana\"]\n",
        "\n",
        "# Convert list to set\n",
        "string_set = set(string_list)\n",
        "\n",
        "# Print the result\n",
        "print(\"Original list:\", string_list)\n",
        "print(\"Converted set:\", string_set)\n"
      ],
      "metadata": {
        "id": "VZd3yvRjzF5G"
      },
      "execution_count": null,
      "outputs": []
    },
    {
      "cell_type": "code",
      "source": [],
      "metadata": {
        "id": "2bcFS320LqHn"
      },
      "execution_count": null,
      "outputs": []
    },
    {
      "cell_type": "code",
      "source": [],
      "metadata": {
        "id": "_4gxw3TJLp92"
      },
      "execution_count": null,
      "outputs": []
    },
    {
      "cell_type": "code",
      "source": [],
      "metadata": {
        "id": "uobSPlwWzFoz"
      },
      "execution_count": null,
      "outputs": []
    }
  ]
}